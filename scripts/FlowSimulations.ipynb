{
 "cells": [
  {
   "cell_type": "markdown",
   "id": "58808ccd",
   "metadata": {},
   "source": [
    "# Simulating a one-dimensional flow along a Length and in time\n",
    "\n",
    " - taking a certain velocity and a certain length.\n",
    " - defining an initial condition.\n",
    " - solving ode to get time and space responses.\n",
    " - velocity reconstruction.\n",
    " - phase-shift detection methods.\n",
    " - solve for changing velocity and length."
   ]
  },
  {
   "cell_type": "code",
   "execution_count": 1,
   "id": "585cb2e5",
   "metadata": {},
   "outputs": [],
   "source": [
    "import vtk\n",
    "import numpy as np\n",
    "from scipy.integrate import odeint"
   ]
  },
  {
   "cell_type": "code",
   "execution_count": null,
   "id": "5bacfdae",
   "metadata": {},
   "outputs": [],
   "source": []
  }
 ],
 "metadata": {
  "kernelspec": {
   "display_name": "Perfusion",
   "language": "python",
   "name": "python3"
  },
  "language_info": {
   "codemirror_mode": {
    "name": "ipython",
    "version": 3
   },
   "file_extension": ".py",
   "mimetype": "text/x-python",
   "name": "python",
   "nbconvert_exporter": "python",
   "pygments_lexer": "ipython3",
   "version": "3.9.23"
  }
 },
 "nbformat": 4,
 "nbformat_minor": 5
}
