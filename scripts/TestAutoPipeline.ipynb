{
 "cells": [
  {
   "cell_type": "markdown",
   "metadata": {},
   "source": [
    "# Extracting Velocity Based on Contrast Dispersion in Grafts\n",
    "\n",
    "    - Extract the graft from the peak intensity image on SimVascular: \n",
    "        Extract .pth of the manual annotation and .vtu of the mesh\n",
    "    - Register the CT-MPI sequence if needed.\n",
    "    - Project the Image values onto the mesh.\n",
    "    - Use a gradient filter and argmax to find the point of shuttle mode.\n",
    "    - Clip the lumen at the point where the shuttle mode causes inconsistency.\n",
    "    - Take a cross-sectional sample every 5 mm along the lumen.\n",
    "    - Extract the TAC on every point.\n",
    "    - Detect the upslope. (?)\n",
    "    - Interpolate each point.\n",
    "    - Concatenate upper and lower parts of the lumen at the same time points.\n",
    "    - Extract temporal and spatial gradient.\n",
    "    - Extract the velocity.\n",
    "    - Baysian Framework"
   ]
  },
  {
   "cell_type": "code",
   "execution_count": 1,
   "metadata": {},
   "outputs": [],
   "source": [
    "import vtk\n",
    "import glob\n",
    "import os\n",
    "import numpy as np\n",
    "import matplotlib.pyplot as plt\n"
   ]
  },
  {
   "cell_type": "code",
   "execution_count": 4,
   "metadata": {},
   "outputs": [],
   "source": [
    "path_ = \"/Users/ana/Documents/AnahitaSeresti/06_ContrastDispersion/3_VesselProjection/VA08B\"\n",
    "graft_name = \"LIMA\"\n",
    "vtu_file_ = os.path.join(path_,f\"{graft_name}.vtu\")\n",
    "centerline_file_ = os.path.join(path_, f\"{graft_name}.pth\")\n",
    "Image_directory_ = \"/Users/ana/Documents/AnahitaSeresti/06_ContrastDispersion/1_CTPImages/VA08B\"\n",
    "Image_names = sorted(glob.glob(f\"{Image_directory_}/*.vtk\"))"
   ]
  },
  {
   "cell_type": "code",
   "execution_count": 5,
   "metadata": {},
   "outputs": [
    {
     "data": {
      "text/plain": [
       "['/Users/ana/Documents/AnahitaSeresti/06_ContrastDispersion/1_CTPImages/VA08B/VA08B_01.vtk',\n",
       " '/Users/ana/Documents/AnahitaSeresti/06_ContrastDispersion/1_CTPImages/VA08B/VA08B_02.vtk',\n",
       " '/Users/ana/Documents/AnahitaSeresti/06_ContrastDispersion/1_CTPImages/VA08B/VA08B_03.vtk',\n",
       " '/Users/ana/Documents/AnahitaSeresti/06_ContrastDispersion/1_CTPImages/VA08B/VA08B_04.vtk',\n",
       " '/Users/ana/Documents/AnahitaSeresti/06_ContrastDispersion/1_CTPImages/VA08B/VA08B_05.vtk',\n",
       " '/Users/ana/Documents/AnahitaSeresti/06_ContrastDispersion/1_CTPImages/VA08B/VA08B_06.vtk',\n",
       " '/Users/ana/Documents/AnahitaSeresti/06_ContrastDispersion/1_CTPImages/VA08B/VA08B_07.vtk',\n",
       " '/Users/ana/Documents/AnahitaSeresti/06_ContrastDispersion/1_CTPImages/VA08B/VA08B_08.vtk',\n",
       " '/Users/ana/Documents/AnahitaSeresti/06_ContrastDispersion/1_CTPImages/VA08B/VA08B_09.vtk',\n",
       " '/Users/ana/Documents/AnahitaSeresti/06_ContrastDispersion/1_CTPImages/VA08B/VA08B_10.vtk',\n",
       " '/Users/ana/Documents/AnahitaSeresti/06_ContrastDispersion/1_CTPImages/VA08B/VA08B_11.vtk',\n",
       " '/Users/ana/Documents/AnahitaSeresti/06_ContrastDispersion/1_CTPImages/VA08B/VA08B_12.vtk',\n",
       " '/Users/ana/Documents/AnahitaSeresti/06_ContrastDispersion/1_CTPImages/VA08B/VA08B_13.vtk']"
      ]
     },
     "execution_count": 5,
     "metadata": {},
     "output_type": "execute_result"
    }
   ],
   "source": [
    "Image_names"
   ]
  },
  {
   "cell_type": "markdown",
   "metadata": {},
   "source": [
    "### Project Images to the Mesh"
   ]
  },
  {
   "cell_type": "code",
   "execution_count": null,
   "metadata": {},
   "outputs": [],
   "source": []
  }
 ],
 "metadata": {
  "kernelspec": {
   "display_name": "vtkfenics",
   "language": "python",
   "name": "python3"
  },
  "language_info": {
   "codemirror_mode": {
    "name": "ipython",
    "version": 3
   },
   "file_extension": ".py",
   "mimetype": "text/x-python",
   "name": "python",
   "nbconvert_exporter": "python",
   "pygments_lexer": "ipython3",
   "version": "3.11.4"
  }
 },
 "nbformat": 4,
 "nbformat_minor": 2
}
