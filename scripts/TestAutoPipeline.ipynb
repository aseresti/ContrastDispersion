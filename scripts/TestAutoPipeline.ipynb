{
 "cells": [
  {
   "cell_type": "markdown",
   "metadata": {},
   "source": [
    "# Extracting Velocity Based on Contrast Dispersion in Grafts\n",
    "\n",
    " - Extract the graft from the peak intensity image on SimVascular:\n",
    "\n",
    "        Extract .pth of the manual annotation and .vtu of the mesh\n",
    "\n",
    " - Register the CT-MPI sequence if needed.\n",
    " - Project the Image values onto the mesh.\n",
    " - Convert pathline to vtp and project image onto the pathline.\n",
    " - Use a gradient filter and argmax to find the point of shuttle mode on the pathline.\n",
    " - Clip the lumen at the point where the shuttle mode causes inconsistency.\n",
    " - Take a cross-sectional sample every 5 mm along the lumen.\n",
    " - Extract the TAC on every point.\n",
    " - Detect the upslope. (?)\n",
    " - Interpolate each point.\n",
    " - Concatenate upper and lower parts of the lumen at the same time points.\n",
    " - Extract temporal and spatial gradient.\n",
    " - Extract the velocity.\n",
    " - Baysian Framework"
   ]
  },
  {
   "cell_type": "code",
   "execution_count": 209,
   "metadata": {},
   "outputs": [],
   "source": [
    "import vtk\n",
    "import glob as glob_module\n",
    "import os\n",
    "import numpy as np\n",
    "import matplotlib.pyplot as plt\n",
    "import xml.etree.ElementTree as ET\n",
    "from scipy.stats import linregress\n",
    "from vtk.util.numpy_support import vtk_to_numpy, numpy_to_vtk\n",
    "from utilities import *\n",
    "\n",
    "plt.rcParams['font.family'] = 'Times New Roman'\n",
    "plt.rcParams['mathtext.fontset'] = 'custom'\n",
    "plt.rcParams['mathtext.rm'] = 'Times New Roman'"
   ]
  },
  {
   "cell_type": "code",
   "execution_count": 2,
   "metadata": {},
   "outputs": [],
   "source": [
    "path_ = \"/Users/ana/Documents/AnahitaSeresti/06_ContrastDispersion/3_VesselProjection/VA08B\"\n",
    "graft_name = \"LIMA\"\n",
    "vtu_file_ = os.path.join(path_,f\"{graft_name}.vtu\")\n",
    "centerline_file_ = os.path.join(path_, f\"{graft_name}.pth\")\n",
    "Image_directory_ = \"/Users/ana/Documents/AnahitaSeresti/06_ContrastDispersion/1_CTPImages/VA08B\"\n",
    "Image_names = sorted(glob_module.glob(f\"{Image_directory_}/*.vtk\"))"
   ]
  },
  {
   "cell_type": "code",
   "execution_count": 3,
   "metadata": {},
   "outputs": [
    {
     "data": {
      "text/plain": [
       "['/Users/ana/Documents/AnahitaSeresti/06_ContrastDispersion/1_CTPImages/VA08B/VA08B_01.vtk',\n",
       " '/Users/ana/Documents/AnahitaSeresti/06_ContrastDispersion/1_CTPImages/VA08B/VA08B_02.vtk',\n",
       " '/Users/ana/Documents/AnahitaSeresti/06_ContrastDispersion/1_CTPImages/VA08B/VA08B_03.vtk',\n",
       " '/Users/ana/Documents/AnahitaSeresti/06_ContrastDispersion/1_CTPImages/VA08B/VA08B_04.vtk',\n",
       " '/Users/ana/Documents/AnahitaSeresti/06_ContrastDispersion/1_CTPImages/VA08B/VA08B_05.vtk',\n",
       " '/Users/ana/Documents/AnahitaSeresti/06_ContrastDispersion/1_CTPImages/VA08B/VA08B_06.vtk',\n",
       " '/Users/ana/Documents/AnahitaSeresti/06_ContrastDispersion/1_CTPImages/VA08B/VA08B_07.vtk',\n",
       " '/Users/ana/Documents/AnahitaSeresti/06_ContrastDispersion/1_CTPImages/VA08B/VA08B_08.vtk',\n",
       " '/Users/ana/Documents/AnahitaSeresti/06_ContrastDispersion/1_CTPImages/VA08B/VA08B_09.vtk',\n",
       " '/Users/ana/Documents/AnahitaSeresti/06_ContrastDispersion/1_CTPImages/VA08B/VA08B_10.vtk',\n",
       " '/Users/ana/Documents/AnahitaSeresti/06_ContrastDispersion/1_CTPImages/VA08B/VA08B_11.vtk',\n",
       " '/Users/ana/Documents/AnahitaSeresti/06_ContrastDispersion/1_CTPImages/VA08B/VA08B_12.vtk',\n",
       " '/Users/ana/Documents/AnahitaSeresti/06_ContrastDispersion/1_CTPImages/VA08B/VA08B_13.vtk']"
      ]
     },
     "execution_count": 3,
     "metadata": {},
     "output_type": "execute_result"
    }
   ],
   "source": [
    "Image_names"
   ]
  },
  {
   "cell_type": "markdown",
   "metadata": {},
   "source": [
    "### Project Images to the Mesh"
   ]
  },
  {
   "cell_type": "code",
   "execution_count": 4,
   "metadata": {},
   "outputs": [],
   "source": [
    "def ProbeFilter(TargetData, SourceData):\n",
    "    ProbeFilter=vtk.vtkProbeFilter()\n",
    "    ProbeFilter.SetInputData(TargetData)\n",
    "    ProbeFilter.SetSourceData(SourceData)\n",
    "    ProbeFilter.Update()\n",
    "    \n",
    "    return ProbeFilter.GetOutput()"
   ]
  },
  {
   "cell_type": "code",
   "execution_count": 5,
   "metadata": {},
   "outputs": [
    {
     "data": {
      "text/plain": [
       "'VA08B_01'"
      ]
     },
     "execution_count": 5,
     "metadata": {},
     "output_type": "execute_result"
    }
   ],
   "source": [
    "os.path.splitext(os.path.basename(Image_names[0]))[0]"
   ]
  },
  {
   "cell_type": "code",
   "execution_count": 6,
   "metadata": {},
   "outputs": [],
   "source": [
    "Mesh = ReadVTUFile(vtu_file_)\n",
    "MeshProjections = {}\n",
    "for image_name in Image_names:\n",
    "    Image_ = ReadVTKFile(image_name)\n",
    "    mesh_projection = ProbeFilter(Mesh, Image_)\n",
    "    image_root_name = os.path.splitext(os.path.basename(image_name))[0]\n",
    "    mesh_name = f\"{graft_name}_{image_root_name}\"\n",
    "    MeshProjections[image_root_name] = mesh_projection\n",
    "    WriteVTUFile(os.path.join(path_,f\"{mesh_name}.vtu\"), mesh_projection)"
   ]
  },
  {
   "cell_type": "code",
   "execution_count": 7,
   "metadata": {},
   "outputs": [
    {
     "data": {
      "text/plain": [
       "{'VA08B_01': <vtkmodules.vtkCommonDataModel.vtkUnstructuredGrid(0x7f966bf05a40) at 0x1a4cbe860>,\n",
       " 'VA08B_02': <vtkmodules.vtkCommonDataModel.vtkUnstructuredGrid(0x7f966bf04d40) at 0x1a4cbe7a0>,\n",
       " 'VA08B_03': <vtkmodules.vtkCommonDataModel.vtkUnstructuredGrid(0x7f966be39b60) at 0x1a4cbeb00>,\n",
       " 'VA08B_04': <vtkmodules.vtkCommonDataModel.vtkUnstructuredGrid(0x7f966bf0bbf0) at 0x1a4cbe680>,\n",
       " 'VA08B_05': <vtkmodules.vtkCommonDataModel.vtkUnstructuredGrid(0x7f966bf0ad40) at 0x1a4cbeb60>,\n",
       " 'VA08B_06': <vtkmodules.vtkCommonDataModel.vtkUnstructuredGrid(0x7f966bccc960) at 0x1a4cbebc0>,\n",
       " 'VA08B_07': <vtkmodules.vtkCommonDataModel.vtkUnstructuredGrid(0x7f966bf076e0) at 0x1a4cbec20>,\n",
       " 'VA08B_08': <vtkmodules.vtkCommonDataModel.vtkUnstructuredGrid(0x7f9679ffddc0) at 0x1a4cbe500>,\n",
       " 'VA08B_09': <vtkmodules.vtkCommonDataModel.vtkUnstructuredGrid(0x7f966bf0e820) at 0x1a4cbe800>,\n",
       " 'VA08B_10': <vtkmodules.vtkCommonDataModel.vtkUnstructuredGrid(0x7f966bbfdc70) at 0x1a4cbec80>,\n",
       " 'VA08B_11': <vtkmodules.vtkCommonDataModel.vtkUnstructuredGrid(0x7f966be3a970) at 0x1a4cbece0>,\n",
       " 'VA08B_12': <vtkmodules.vtkCommonDataModel.vtkUnstructuredGrid(0x7f966bf11360) at 0x1a4cbed40>,\n",
       " 'VA08B_13': <vtkmodules.vtkCommonDataModel.vtkUnstructuredGrid(0x7f966bf13140) at 0x1a4cbeda0>}"
      ]
     },
     "execution_count": 7,
     "metadata": {},
     "output_type": "execute_result"
    }
   ],
   "source": [
    "MeshProjections"
   ]
  },
  {
   "cell_type": "markdown",
   "metadata": {},
   "source": [
    "### Read SimVascular Pathline Annotations"
   ]
  },
  {
   "cell_type": "code",
   "execution_count": 8,
   "metadata": {},
   "outputs": [
    {
     "name": "stdout",
     "output_type": "stream",
     "text": [
      "the number of points in the centerline is: 111\n"
     ]
    }
   ],
   "source": [
    "with open(centerline_file_, \"r\") as path:\n",
    "    #path.readlines()\n",
    "    tree = ET.parse(path)\n",
    "root = tree.getroot()\n",
    "\n",
    "direction_points = []\n",
    "for direction_point in root.findall(\".//path_point/tangent\"):\n",
    "    x = float(direction_point.attrib['x'])\n",
    "    y = float(direction_point.attrib['y'])\n",
    "    z = float(direction_point.attrib['z'])\n",
    "    direction_points.append((x,y,z))\n",
    "\n",
    "position_points = []\n",
    "for path_point in root.findall(\".//path_point/pos\"):\n",
    "    x = float(path_point.attrib['x'])\n",
    "    y = float(path_point.attrib['y'])\n",
    "    z = float(path_point.attrib['z'])\n",
    "    position_points.append((x,y,z))\n",
    "\n",
    "path_normals = []\n",
    "for normal in root.findall(\".//path_point/rotation\"):\n",
    "    x = float(normal.attrib['x'])\n",
    "    y = float(normal.attrib['y'])\n",
    "    z = float(normal.attrib['z'])\n",
    "    path_normals.append((x,y,z))\n",
    "\n",
    "NPoints = len(position_points)\n",
    "print(\"the number of points in the centerline is:\", NPoints)\n",
    "\n",
    "binormal = []\n",
    "for i in range(NPoints):\n",
    "    binormal_ = np.cross(np.array(direction_points[i]),np.array(path_normals[i]))\n",
    "    binormal_ /= np.linalg.norm(binormal_)\n",
    "    binormal.append(binormal_)\n",
    "    "
   ]
  },
  {
   "cell_type": "markdown",
   "metadata": {},
   "source": [
    "### Convert Pathline to VTP"
   ]
  },
  {
   "cell_type": "code",
   "execution_count": 9,
   "metadata": {},
   "outputs": [],
   "source": [
    "def points_to_vtp(points):\n",
    "    # Create VTK points\n",
    "    vtk_points = vtk.vtkPoints()\n",
    "    for point in points:\n",
    "        vtk_points.InsertNextPoint(point)\n",
    "\n",
    "    # Create a polyline\n",
    "    polyline = vtk.vtkPolyLine()\n",
    "    polyline.GetPointIds().SetNumberOfIds(len(points))\n",
    "    for i in range(len(points)):\n",
    "        polyline.GetPointIds().SetId(i, i)\n",
    "\n",
    "    # Create a cell array to store the polyline\n",
    "    cells = vtk.vtkCellArray()\n",
    "    cells.InsertNextCell(polyline)\n",
    "\n",
    "    # Create a polydata object\n",
    "    polydata = vtk.vtkPolyData()\n",
    "    polydata.SetPoints(vtk_points)\n",
    "    polydata.SetLines(cells)\n",
    "\n",
    "    return polydata"
   ]
  },
  {
   "cell_type": "code",
   "execution_count": 10,
   "metadata": {},
   "outputs": [],
   "source": [
    "centerline_vtp = points_to_vtp(position_points)\n",
    "peak_intensity = 5\n",
    "image_ = ReadVTKFile(Image_names[peak_intensity])"
   ]
  },
  {
   "cell_type": "markdown",
   "metadata": {},
   "source": [
    "### Search for the Maximum Gradient"
   ]
  },
  {
   "cell_type": "code",
   "execution_count": 11,
   "metadata": {},
   "outputs": [],
   "source": [
    "def gradient_filter(vtk_image):\n",
    "    gradient_filter = vtk.vtkImageGradient()\n",
    "    gradient_filter.SetInputData(vtk_image)\n",
    "    gradient_filter.SetDimensionality(3)\n",
    "    gradient_filter.Update()\n",
    "\n",
    "    return gradient_filter.GetOutput()\n",
    "    \n",
    "def define_borders(gradient_image):\n",
    "    magnitude_filter = vtk.vtkImageMagnitude()\n",
    "    magnitude_filter.SetInputData(gradient_image)\n",
    "    magnitude_filter.Update()\n",
    "    \n",
    "    return magnitude_filter.GetOutput()"
   ]
  },
  {
   "cell_type": "code",
   "execution_count": 12,
   "metadata": {},
   "outputs": [],
   "source": [
    "image_gradient_PI = define_borders(gradient_filter(image_))\n",
    "centerline_vtp_projected = ProbeFilter(centerline_vtp, image_gradient_PI)\n",
    "WriteVTPFile(os.path.join(path_, f\"{graft_name}.vtp\"), centerline_vtp_projected)"
   ]
  },
  {
   "cell_type": "code",
   "execution_count": 13,
   "metadata": {},
   "outputs": [],
   "source": [
    "magnitude_array_name = \"Magnitude\"\n",
    "MagnitudeArray = centerline_vtp_projected.GetPointData().GetArray(magnitude_array_name)\n",
    "ptidx = np.argmax(MagnitudeArray)\n",
    "Shuttle_mode_point = centerline_vtp_projected.GetPoint(ptidx)"
   ]
  },
  {
   "cell_type": "code",
   "execution_count": 14,
   "metadata": {},
   "outputs": [],
   "source": [
    "def clip_polydata_with_plane(polydata, origin, normal, inside_out=False):\n",
    "    plane = vtk.vtkPlane()\n",
    "    plane.SetOrigin(origin)\n",
    "    plane.SetNormal(normal)\n",
    "\n",
    "    clipper = vtk.vtkClipPolyData()\n",
    "    clipper.SetInputData(polydata)\n",
    "    clipper.SetClipFunction(plane)\n",
    "\n",
    "    if inside_out:\n",
    "        clipper.InsideOutOn()\n",
    "    else:\n",
    "        clipper.InsideOutOff()\n",
    "    \n",
    "    clipper.Update()\n",
    "\n",
    "    return clipper.GetOutput()\n",
    "\n",
    "def clip_USGrid_w_plane(USGrid, origin, normal, inside_out = False):\n",
    "    plane = vtk.vtkPlane()\n",
    "    plane.SetOrigin(origin)\n",
    "    plane.SetNormal(normal)\n",
    "\n",
    "    clipper = vtk.vtkClipDataSet()\n",
    "    clipper.SetInputData(USGrid)\n",
    "    clipper.SetClipFunction(plane)\n",
    "\n",
    "    if inside_out:\n",
    "        clipper.InsideOutOn()\n",
    "    else:\n",
    "        clipper.InsideOutOff()\n",
    "    \n",
    "    clipper.Update()\n",
    "\n",
    "    return clipper.GetOutput()"
   ]
  },
  {
   "cell_type": "code",
   "execution_count": 15,
   "metadata": {},
   "outputs": [],
   "source": [
    "UpperMesh = {}\n",
    "LowerMesh = {}\n",
    "\n",
    "for key, mesh in MeshProjections.items():\n",
    "    upper_mesh = clip_USGrid_w_plane(mesh, position_points[ptidx], direction_points[ptidx], True)\n",
    "    mesh_name_upper = f\"{graft_name}_{key}_upper\"\n",
    "    UpperMesh[key] = upper_mesh\n",
    "    WriteVTUFile(os.path.join(path_,f\"{mesh_name_upper}.vtu\"), upper_mesh)\n",
    "    \n",
    "    lower_mesh = clip_USGrid_w_plane(mesh, position_points[ptidx], direction_points[ptidx])\n",
    "    mesh_name_lower = f\"{graft_name}_{key}_lower\"\n",
    "    LowerMesh[key] = lower_mesh\n",
    "    WriteVTUFile(os.path.join(path_,f\"{mesh_name_lower}.vtu\"), lower_mesh)\n",
    "\n",
    "\n",
    "centerline_upper = clip_polydata_with_plane(centerline_vtp_projected, position_points[ptidx], direction_points[ptidx], True)\n",
    "centerline_lower = clip_polydata_with_plane(centerline_vtp_projected, position_points[ptidx], direction_points[ptidx])"
   ]
  },
  {
   "cell_type": "markdown",
   "metadata": {},
   "source": [
    "### Cutting the Lumen Every 3 mm"
   ]
  },
  {
   "cell_type": "code",
   "execution_count": 16,
   "metadata": {},
   "outputs": [],
   "source": [
    "cumulative_distance = [0]\n",
    "for i in range(1, NPoints):\n",
    "    dist_ = np.sqrt((position_points[i][0] - position_points[i-1][0])**2 +\n",
    "                    (position_points[i][1] - position_points[i-1][1])**2 +\n",
    "                    (position_points[i][2] - position_points[i-1][2])**2 )\n",
    "    cumulative_distance.append(dist_ + cumulative_distance[i-1])\n"
   ]
  },
  {
   "cell_type": "code",
   "execution_count": 17,
   "metadata": {},
   "outputs": [
    {
     "name": "stdout",
     "output_type": "stream",
     "text": [
      "[0, 1, 2, 3, 4, 9, 13, 17, 21, 22, 26, 27, 31, 32, 36, 40, 41, 45, 46, 50, 51, 55, 59, 60, 64, 69, 73, 74, 78, 79, 83, 89, 92, 96, 101, 105]\n",
      "[1, 1, 1, 1, 5, 4, 4, 4, 1, 4, 1, 4, 1, 4, 4, 1, 4, 1, 4, 1, 4, 4, 1, 4, 5, 4, 1, 4, 1, 4, 6, 3, 4, 5, 4]\n",
      "[0, 9, 13, 17, 21, 26, 31, 36, 40, 45, 50, 55, 59, 64, 69, 73, 78, 83, 89, 92, 96, 101, 105]\n"
     ]
    }
   ],
   "source": [
    "remainder  = np.array([int(i)%3 for i in cumulative_distance])\n",
    "indeces = np.where(remainder == 0)\n",
    "indeces = list(indeces[0])\n",
    "print(indeces)\n",
    "indeces_ = [indeces[i] - indeces[i-1] for i in range(1, len(indeces))]\n",
    "print(indeces_)\n",
    "indeces_1 = [0]\n",
    "indeces_1.extend(indeces_)\n",
    "indeces_1 = indeces_1\n",
    "\n",
    "indeces_2 = [indeces[i] for i in range(len(indeces_1)) if indeces_1[i] != 1]\n",
    "print(indeces_2)"
   ]
  },
  {
   "cell_type": "code",
   "execution_count": 176,
   "metadata": {},
   "outputs": [],
   "source": [
    "def SequentialCut(PointsArray, interval=3):\n",
    "    \"\"\"Finds the location of the cut along the centerline of the lumen.\n",
    "\n",
    "    Args:\n",
    "        PointsArray (list): a list of the position of the points along the centerline of the vessel.\n",
    "        interval (int, optional): To perform the clipping. Distance between the cross sections. Defaults to 3.\n",
    "    \"\"\"\n",
    "    NPoints = len(PointsArray)\n",
    "    cumulative_distance = [0]\n",
    "    for i in range(1, NPoints):\n",
    "        dist_ = np.sqrt((PointsArray[i][0] - PointsArray[i-1][0])**2 +\n",
    "                        (PointsArray[i][1] - PointsArray[i-1][1])**2 +\n",
    "                        (PointsArray[i][2] - PointsArray[i-1][2])**2 )\n",
    "        cumulative_distance.append(dist_ + cumulative_distance[i-1])\n",
    "\n",
    "    remainder  = np.array([int(i)%interval for i in cumulative_distance])\n",
    "    indeces = np.where(remainder == 0)\n",
    "    indeces = list(indeces[0])\n",
    "    indeces_ = [indeces[i] - indeces[i-1] for i in range(1, len(indeces))]\n",
    "    indeces_1 = [0]\n",
    "    indeces_1.extend(indeces_)\n",
    "    indeces_1 = indeces_1\n",
    "\n",
    "    indeces_2 = [indeces[i] for i in range(len(indeces_1)) if indeces_1[i] != 1]\n",
    "    #indeces_2[0] = 2\n",
    "\n",
    "    return indeces_2    "
   ]
  },
  {
   "cell_type": "code",
   "execution_count": 19,
   "metadata": {},
   "outputs": [],
   "source": [
    "def slice_w_plane(Volume,Origin,Norm):\n",
    "    plane=vtk.vtkPlane()\n",
    "    plane.SetOrigin(Origin)\n",
    "    plane.SetNormal(Norm)\n",
    "    Slice=vtk.vtkCutter()\n",
    "    Slice.GenerateTrianglesOff()\n",
    "    Slice.SetCutFunction(plane)\n",
    "    Slice.SetInputData(Volume)\n",
    "    Slice.Update()\n",
    "    return Slice.GetOutput()"
   ]
  },
  {
   "cell_type": "code",
   "execution_count": 20,
   "metadata": {},
   "outputs": [],
   "source": [
    "def SphereClip(volume_image,center,radius):\n",
    "    sphere = vtk.vtkSphere()\n",
    "    sphere.SetCenter(center)\n",
    "    sphere.SetRadius(radius)\n",
    "\n",
    "    clipper = vtk.vtkClipDataSet()\n",
    "    clipper.SetInputData(volume_image)\n",
    "    clipper.SetClipFunction(sphere)\n",
    "    clipper.InsideOutOn()\n",
    "    clipper.GetOutputInformation(1)\n",
    "    clipper.Update()\n",
    "\n",
    "    return clipper.GetOutput()"
   ]
  },
  {
   "cell_type": "code",
   "execution_count": 21,
   "metadata": {},
   "outputs": [],
   "source": [
    "def GetSurfaceArea(polydata):\n",
    "    properties = vtk.vtkMassProperties()\n",
    "    properties.AddInputData(polydata)\n",
    "    properties.Update()\n",
    "    return properties.GetSurfaceArea()"
   ]
  },
  {
   "cell_type": "code",
   "execution_count": 133,
   "metadata": {},
   "outputs": [],
   "source": [
    "CrossSections = vtk.vtkAppendPolyData()\n",
    "Area_ = [] \n",
    "for idx in indeces_2:\n",
    "    cross_section_ = slice_w_plane(MeshProjections['VA08B_06'], position_points[idx+2], direction_points[idx+2])\n",
    "    area_ = GetSurfaceArea(cross_section_)\n",
    "    Area_.append(area_)\n",
    "    radius = np.sqrt(area_/np.pi)\n",
    "    inner_section_ = SphereClip(cross_section_, GetCentroid(cross_section_), radius*0.75)\n",
    "    CrossSections.AddInputData(ExtractSurface(inner_section_))\n",
    "CrossSections.Update()\n",
    "Area = np.mean(np.array(Area_))\n",
    "WriteVTPFile(os.path.join(path_, \"CrossSections.vtp\"), CrossSections.GetOutput())"
   ]
  },
  {
   "cell_type": "markdown",
   "metadata": {},
   "source": [
    "### Extracting cross sections from upper and lower parts of the lumen"
   ]
  },
  {
   "cell_type": "markdown",
   "metadata": {},
   "source": [
    "#### Detecting which half is leading"
   ]
  },
  {
   "cell_type": "code",
   "execution_count": 24,
   "metadata": {},
   "outputs": [
    {
     "name": "stdout",
     "output_type": "stream",
     "text": [
      "scalars\n"
     ]
    }
   ],
   "source": [
    "ScalarArrayName = image_.GetPointData().GetArrayName(0)\n",
    "print(ScalarArrayName)"
   ]
  },
  {
   "cell_type": "code",
   "execution_count": 38,
   "metadata": {},
   "outputs": [
    {
     "data": {
      "image/png": "[encoded data removed]",
      "text/plain": [
       "<Figure size 640x480 with 1 Axes>"
      ]
     },
     "metadata": {},
     "output_type": "display_data"
    },
    {
     "name": "stdout",
     "output_type": "stream",
     "text": [
      "The upper half lags the lower half.\n"
     ]
    }
   ],
   "source": [
    "leading = False #if True upper half is leading\n",
    "upper_mean_ = []\n",
    "lower_mean_ = []\n",
    "for name in Image_names:\n",
    "    Image_ = ReadVTKFile(name)\n",
    "    centerline_ = ProbeFilter(centerline_vtp, Image_)\n",
    "    WriteVTPFile(os.path.join(path_, \"test_centerline.vtp\"), centerline_)\n",
    "    centerline_upper_ = clip_polydata_with_plane(centerline_, position_points[ptidx], direction_points[ptidx], True)\n",
    "    WriteVTPFile(os.path.join(path_, \"test_centerline_upper.vtp\"), centerline_upper_)\n",
    "    centerline_lower_ = clip_polydata_with_plane(centerline_, position_points[ptidx], direction_points[ptidx])\n",
    "    WriteVTPFile(os.path.join(path_, \"test_centerline_lower.vtp\"), centerline_lower_)\n",
    "    for i in range(Image_.GetPointData().GetNumberOfArrays()):\n",
    "        arrayname_ = Image_.GetPointData().GetArrayName(i)\n",
    "        if \"scalar\" in arrayname_.lower():\n",
    "            ScalarArrayName = arrayname_\n",
    "    upper_mean_.append(np.mean(vtk_to_numpy(centerline_upper_.GetPointData().GetArray(ScalarArrayName))))\n",
    "    lower_mean_.append(np.mean(vtk_to_numpy(centerline_lower_.GetPointData().GetArray(ScalarArrayName))))\n",
    "\n",
    "count = [i for i in range(len(Image_names))]\n",
    "plt.figure()\n",
    "plt.plot(count, upper_mean_, label = \"Upper Mean\")\n",
    "plt.plot(count, lower_mean_, label = \"Lower Mean\")\n",
    "plt.legend()\n",
    "plt.show()\n",
    "\n",
    "max_lower_idx = np.where(np.array(lower_mean_) == max(lower_mean_))\n",
    "max_upper_idx = np.where(np.array(upper_mean_) == max(upper_mean_))\n",
    "if max_lower_idx > max_upper_idx:\n",
    "    leading = True\n",
    "    print(\"The upper half leads the lower half.\")\n",
    "else:\n",
    "    leading = False\n",
    "    print(\"The upper half lags the lower half.\")\n",
    "\n"
   ]
  },
  {
   "cell_type": "markdown",
   "metadata": {},
   "source": [
    "#### Extract the cross sections along the upper part of the lumen"
   ]
  },
  {
   "cell_type": "code",
   "execution_count": 64,
   "metadata": {},
   "outputs": [],
   "source": [
    "def GetPoints(polydata):\n",
    "    \"\"\"Converts the polydata into a list of points.\n",
    "    \"\"\"\n",
    "    NPoints = polydata.GetNumberOfPoints()\n",
    "    points = []\n",
    "    for i in range(NPoints):\n",
    "        points.append(polydata.GetPoint(i))\n",
    "\n",
    "    return points"
   ]
  },
  {
   "cell_type": "markdown",
   "metadata": {},
   "source": [
    "todo: \n",
    " - add another loop that loops over the Upper/Lower meshes.\n",
    " - create an array of means of each cross section over time.\n",
    " - interpolate the array (piecewise interpolation).\n",
    " - remove the first and last elements of each array based on upper half leading or lagging.\n",
    " - concatenate the arrays."
   ]
  },
  {
   "cell_type": "markdown",
   "metadata": {},
   "source": [
    "The following two cells are for test purposes only."
   ]
  },
  {
   "cell_type": "code",
   "execution_count": null,
   "metadata": {},
   "outputs": [],
   "source": [
    "centerline_upper_points = GetPoints(centerline_upper)\n",
    "indeces_u = SequentialCut(centerline_upper_points, 2)\n",
    "CrossSections_u = vtk.vtkAppendPolyData()\n",
    "for idx in indeces_u:\n",
    "    cross_section_ = slice_w_plane(UpperMesh[list(UpperMesh.keys())[peak_intensity]], position_points[idx], direction_points[idx])\n",
    "    radius = np.sqrt(GetSurfaceArea(cross_section_)/np.pi)\n",
    "    inner_section_ = SphereClip(cross_section_, GetCentroid(cross_section_), radius*0.75)\n",
    "    CrossSections_u.AddInputData(ExtractSurface(inner_section_))\n",
    "CrossSections_u.Update()\n",
    "WriteVTPFile(os.path.join(path_, \"CrossSections_Upper.vtp\"), CrossSections_u.GetOutput())"
   ]
  },
  {
   "cell_type": "code",
   "execution_count": null,
   "metadata": {},
   "outputs": [],
   "source": [
    "centerline_lower_points = GetPoints(centerline_lower)\n",
    "indeces_l = SequentialCut(centerline_lower_points, 2)\n",
    "CrossSections_l = vtk.vtkAppendPolyData()\n",
    "for idx in indeces_l:\n",
    "    cross_section_ = slice_w_plane(LowerMesh[list(UpperMesh.keys())[peak_intensity]], position_points[len(centerline_upper_points) + idx], direction_points[len(centerline_upper_points) + idx])\n",
    "    radius = np.sqrt(GetSurfaceArea(cross_section_)/np.pi)\n",
    "    inner_section_ = SphereClip(cross_section_, GetCentroid(cross_section_), radius*0.75)\n",
    "    CrossSections_l.AddInputData(ExtractSurface(inner_section_))\n",
    "CrossSections_l.Update()\n",
    "WriteVTPFile(os.path.join(path_, \"CrossSections_Lower.vtp\"), CrossSections_l.GetOutput())"
   ]
  },
  {
   "cell_type": "markdown",
   "metadata": {},
   "source": [
    "#### Looping over all of the meshes and extracting a mean array"
   ]
  },
  {
   "cell_type": "code",
   "execution_count": 193,
   "metadata": {},
   "outputs": [],
   "source": [
    "centerline_upper_points = GetPoints(centerline_upper)\n",
    "indeces_u = SequentialCut(centerline_upper_points, 2)\n",
    "\n",
    "UpperMeanArrays = {}\n",
    "for idx in indeces_u:\n",
    "    cross_section_mean_array = []\n",
    "    for key, mesh in UpperMesh.items():\n",
    "        cross_section_ = slice_w_plane(mesh, position_points[idx], direction_points[idx])\n",
    "        radius = np.sqrt(GetSurfaceArea(cross_section_)/np.pi)\n",
    "        inner_section_ = SphereClip(cross_section_, GetCentroid(cross_section_), radius*0.75)\n",
    "        for i in range(inner_section_.GetPointData().GetNumberOfArrays()):\n",
    "            arrayname_ = inner_section_.GetPointData().GetArrayName(i)\n",
    "            if \"scalar\" in arrayname_.lower():\n",
    "                ScalarArrayName = arrayname_\n",
    "        cross_section_mean_array.append(np.mean(vtk_to_numpy(inner_section_.GetPointData().GetArray(ScalarArrayName))))\n",
    "    \n",
    "    # add interpolation— then remove the element based on leading/lagging and store it in the dict\n",
    "    tac = np.empty(2*len(cross_section_mean_array) - 1)\n",
    "    for i in range(len(cross_section_mean_array) - 1):\n",
    "        tac[2*i] = cross_section_mean_array[i]\n",
    "        tac[2*i+1] = (cross_section_mean_array[i] + cross_section_mean_array[i+1])/2\n",
    "    \n",
    "    tac[-1] = cross_section_mean_array[-1]\n",
    "\n",
    "    if leading:\n",
    "        UpperMeanArrays[cumulative_distance[idx]] = tac\n",
    "    else:\n",
    "        UpperMeanArrays[cumulative_distance[idx]] = tac\n"
   ]
  },
  {
   "cell_type": "code",
   "execution_count": 145,
   "metadata": {},
   "outputs": [
    {
     "data": {
      "image/png": "[encoded data removed]",
      "text/plain": [
       "<Figure size 640x480 with 1 Axes>"
      ]
     },
     "metadata": {},
     "output_type": "display_data"
    }
   ],
   "source": [
    "count = [i for i in range(len(tac) - 1)]\n",
    "plt.figure()\n",
    "plt.scatter(count, UpperMeanArrays[list(UpperMeanArrays.keys())[-1]],marker = 'o', s = 100, label = \"Interpolation Results\")\n",
    "count = [i for i in range(len(tac)) if i%2 == 0]\n",
    "plt.scatter(count, cross_section_mean_array, marker = 'D', s = 30, label = \"Actual Data\")\n",
    "plt.legend(loc= \"upper left\")\n",
    "plt.show()"
   ]
  },
  {
   "cell_type": "code",
   "execution_count": 194,
   "metadata": {},
   "outputs": [
    {
     "name": "stdout",
     "output_type": "stream",
     "text": [
      "13\n",
      "25\n",
      "13\n",
      "25\n",
      "13\n",
      "25\n",
      "13\n",
      "25\n",
      "13\n",
      "25\n",
      "13\n",
      "25\n"
     ]
    }
   ],
   "source": [
    "centerline_lower_points = GetPoints(centerline_lower)\n",
    "indeces_l = SequentialCut(centerline_lower_points, 2)\n",
    "\n",
    "LowerMeanArrays = {}\n",
    "for idx in indeces_l:\n",
    "    cross_section_mean_array = []\n",
    "    for key, mesh in LowerMesh.items():\n",
    "        cross_section_ = slice_w_plane(mesh, position_points[len(centerline_upper_points) + idx], direction_points[len(centerline_upper_points) + idx])\n",
    "        radius = np.sqrt(GetSurfaceArea(cross_section_)/np.pi)\n",
    "        inner_section_ = SphereClip(cross_section_, GetCentroid(cross_section_), radius*0.75)\n",
    "        for i in range(inner_section_.GetPointData().GetNumberOfArrays()):\n",
    "            arrayname_ = inner_section_.GetPointData().GetArrayName(i)\n",
    "            if \"scalar\" in arrayname_.lower():\n",
    "                ScalarArrayName = arrayname_\n",
    "        cross_section_mean_array.append(np.mean(vtk_to_numpy(inner_section_.GetPointData().GetArray(ScalarArrayName))))\n",
    "    \n",
    "    # add interpolation— then remove the element based on leading/lagging and store it in the dict\n",
    "    print(len(cross_section_mean_array))\n",
    "    tac = np.empty(2*len(cross_section_mean_array) - 1)\n",
    "    for i in range(len(cross_section_mean_array) - 1):\n",
    "        tac[2*i] = cross_section_mean_array[i]\n",
    "        tac[2*i+1] = (cross_section_mean_array[i] + cross_section_mean_array[i+1])/2\n",
    "    \n",
    "    tac[-1] = cross_section_mean_array[-1]\n",
    "    print(len(tac))\n",
    "\n",
    "    if leading:\n",
    "        LowerMeanArrays[cumulative_distance[len(centerline_upper_points) + idx]] = tac\n",
    "    else:\n",
    "        LowerMeanArrays[cumulative_distance[len(centerline_upper_points) + idx]] = tac"
   ]
  },
  {
   "cell_type": "code",
   "execution_count": 115,
   "metadata": {},
   "outputs": [],
   "source": [
    "# todo: is there an algorithm that could detect the upslope?"
   ]
  },
  {
   "cell_type": "code",
   "execution_count": 195,
   "metadata": {},
   "outputs": [
    {
     "name": "stdout",
     "output_type": "stream",
     "text": [
      "13\n",
      "25\n",
      "29 6\n",
      "29 6\n",
      "[0, 7, 10, 13, 15, 18, 21, 25, 28, 31, 34, 37, 40, 43, 47, 50, 53, 56, 59, 62, 65, 69, 72, 75, 78, 81, 84, 89, 91]\n",
      "[0, 2, 7, 10, 12, 15]\n",
      "[61.06543110699119, 63.51411616591481, 66.60158323371238, 68.81315891722252, 70.30710058270712, 71.83394892042195] 6 6\n"
     ]
    }
   ],
   "source": [
    "print(len(LowerMesh.keys()))\n",
    "print(len(LowerMeanArrays[list(LowerMeanArrays.keys())[0]]))\n",
    "print(len(indeces_u), len(indeces_l))\n",
    "print(len(UpperMeanArrays), len(LowerMeanArrays))\n",
    "\n",
    "print(indeces_u)\n",
    "print(indeces_l)\n",
    "keys = [cumulative_distance[len(centerline_upper_points) + idx] for idx in indeces_l]\n",
    "print(keys, len(set(keys)), len(keys))"
   ]
  },
  {
   "cell_type": "code",
   "execution_count": 215,
   "metadata": {},
   "outputs": [
    {
     "data": {
      "image/png": "[encoded data removed]",
      "text/plain": [
       "<Figure size 640x480 with 1 Axes>"
      ]
     },
     "metadata": {},
     "output_type": "display_data"
    }
   ],
   "source": [
    "sample_time = 11 # the time point when the spatial attenuation is extracted.\n",
    "\n",
    "SpatialArray = []\n",
    "SamplingLocation = list(UpperMeanArrays.keys()) + list(LowerMeanArrays.keys())\n",
    "for key, array in UpperMeanArrays.items():\n",
    "    SpatialArray.append(array[sample_time])\n",
    "for key, array in LowerMeanArrays.items():\n",
    "    SpatialArray.append(array[sample_time - 1 ])\n",
    "\n",
    "\n",
    "plt.figure()\n",
    "plt.scatter(SamplingLocation, SpatialArray, marker = 'o', s = 100, label = \"Centerline Attenuation\")\n",
    "x_fit = np.linspace(min(SamplingLocation), max(SamplingLocation), 100).reshape(-1,1)\n",
    "slope_s, intercept, _, _, _ = linregress(SamplingLocation, SpatialArray)\n",
    "y_fit = slope_s * x_fit + intercept\n",
    "plt.plot(x_fit, y_fit, 'r-', linewidth=2, label= f\"Trend Line, slope ={int(slope_s*100)/100}\")\n",
    "plt.ylim([400, 800])\n",
    "plt.xlabel(\"Distance from the inlet (mm)\", size = 16)\n",
    "plt.ylabel(\"Attenuation (HU)\", size = 16)\n",
    "plt.legend()\n",
    "plt.show()"
   ]
  },
  {
   "cell_type": "code",
   "execution_count": 219,
   "metadata": {},
   "outputs": [
    {
     "data": {
      "image/png": "[encoded data removed]",
      "text/plain": [
       "<Figure size 640x480 with 1 Axes>"
      ]
     },
     "metadata": {},
     "output_type": "display_data"
    }
   ],
   "source": [
    "upslope_begins = 8\n",
    "upslope_ends = 13\n",
    "\n",
    "heart_rate = 75 #beats per minutes\n",
    "beat_duration = 60/heart_rate\n",
    "\n",
    "array = UpperMeanArrays[list(UpperMeanArrays.keys())[0]]\n",
    "\n",
    "Upslope = array[upslope_begins:upslope_ends]\n",
    "count = [i * beat_duration for i in range(len(array))]\n",
    "count_upslope = [i * beat_duration for i in range(upslope_begins, upslope_ends)]\n",
    "\n",
    "plt.figure()\n",
    "plt.scatter(count, array, marker = 'o', s = 100, label = \"Centerline Attenuation\")\n",
    "x_fit = np.linspace(min(count_upslope), max(count_upslope), 100).reshape(-1,1)\n",
    "slope_t, intercept, _, _, _ = linregress(count_upslope, Upslope)\n",
    "y_fit = slope_t * x_fit + intercept\n",
    "plt.plot(x_fit, y_fit, 'r-', linewidth=2, label= f\"Trend Line, slope ={int(slope_t*100)/100}\")\n",
    "plt.xlabel(\"time (s)\", size = 16)\n",
    "plt.ylabel(\"Attenuation (HU)\", size = 16)\n",
    "plt.legend(loc = 'upper left')\n",
    "plt.show()"
   ]
  },
  {
   "cell_type": "code",
   "execution_count": 223,
   "metadata": {},
   "outputs": [
    {
     "name": "stdout",
     "output_type": "stream",
     "text": [
      "23.622050996050064 cm/s\n",
      "2.635059489121798 mm^2\n",
      "37.34730577779645 mL/min\n"
     ]
    }
   ],
   "source": [
    "velocity = abs(slope_t/slope_s)\n",
    "flow_rate = velocity*Area/1000*60\n",
    "\n",
    "print(velocity/10, \"cm/s\")\n",
    "print(Area, \"mm^2\")\n",
    "print(flow_rate, \"mL/min\")"
   ]
  },
  {
   "cell_type": "code",
   "execution_count": 224,
   "metadata": {},
   "outputs": [],
   "source": [
    "# todo: Implement the Baysian Framework"
   ]
  }
 ],
 "metadata": {
  "kernelspec": {
   "display_name": "vtkfenics",
   "language": "python",
   "name": "python3"
  },
  "language_info": {
   "codemirror_mode": {
    "name": "ipython",
    "version": 3
   },
   "file_extension": ".py",
   "mimetype": "text/x-python",
   "name": "python",
   "nbconvert_exporter": "python",
   "pygments_lexer": "ipython3",
   "version": "3.11.4"
  }
 },
 "nbformat": 4,
 "nbformat_minor": 2
}
