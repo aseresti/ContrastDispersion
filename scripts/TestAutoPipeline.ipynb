{
 "cells": [
  {
   "cell_type": "markdown",
   "metadata": {},
   "source": [
    "# Extracting Velocity Based on Contrast Dispersion in Grafts\n",
    "\n",
    " - Extract the graft from the peak intensity image on SimVascular:\n",
    "\n",
    "        Extract .pth of the manual annotation and .vtu of the mesh\n",
    "\n",
    " - Register the CT-MPI sequence if needed.\n",
    " - Project the Image values onto the mesh.\n",
    " - Convert pathline to vtp and project image onto the pathline.\n",
    " - Use a gradient filter and argmax to find the point of shuttle mode on the pathline.\n",
    " - Clip the lumen at the point where the shuttle mode causes inconsistency.\n",
    " - Take a cross-sectional sample every 5 mm along the lumen.\n",
    " - Extract the TAC on every point.\n",
    " - Detect the upslope. (?)\n",
    " - Interpolate each point.\n",
    " - Concatenate upper and lower parts of the lumen at the same time points.\n",
    " - Extract temporal and spatial gradient.\n",
    " - Extract the velocity.\n",
    " - Baysian Framework"
   ]
  },
  {
   "cell_type": "code",
   "execution_count": 286,
   "metadata": {},
   "outputs": [],
   "source": [
    "import vtk\n",
    "import glob as glob_module\n",
    "import os\n",
    "import numpy as np\n",
    "import matplotlib.pyplot as plt\n",
    "import xml.etree.ElementTree as ET\n",
    "from scipy.stats import linregress\n",
    "from scipy.integrate import odeint\n",
    "import matplotlib.cm as cm\n",
    "from vtk.util.numpy_support import vtk_to_numpy, numpy_to_vtk\n",
    "from utilities import *\n",
    "\n",
    "plt.rcParams['font.family'] = 'Times New Roman'\n",
    "plt.rcParams['mathtext.fontset'] = 'custom'\n",
    "plt.rcParams['mathtext.rm'] = 'Times New Roman'"
   ]
  },
  {
   "cell_type": "code",
   "execution_count": 2,
   "metadata": {},
   "outputs": [],
   "source": [
    "path_ = \"/Users/ana/Documents/AnahitaSeresti/06_ContrastDispersion/3_VesselProjection/VA08B\"\n",
    "graft_name = \"LIMA\"\n",
    "vtu_file_ = os.path.join(path_,f\"{graft_name}.vtu\")\n",
    "centerline_file_ = os.path.join(path_, f\"{graft_name}.pth\")\n",
    "Image_directory_ = \"/Users/ana/Documents/AnahitaSeresti/06_ContrastDispersion/1_CTPImages/VA08B\"\n",
    "Image_names = sorted(glob_module.glob(f\"{Image_directory_}/*.vtk\"))"
   ]
  },
  {
   "cell_type": "code",
   "execution_count": 3,
   "metadata": {},
   "outputs": [
    {
     "data": {
      "text/plain": [
       "['/Users/ana/Documents/AnahitaSeresti/06_ContrastDispersion/1_CTPImages/VA08B/VA08B_01.vtk',\n",
       " '/Users/ana/Documents/AnahitaSeresti/06_ContrastDispersion/1_CTPImages/VA08B/VA08B_02.vtk',\n",
       " '/Users/ana/Documents/AnahitaSeresti/06_ContrastDispersion/1_CTPImages/VA08B/VA08B_03.vtk',\n",
       " '/Users/ana/Documents/AnahitaSeresti/06_ContrastDispersion/1_CTPImages/VA08B/VA08B_04.vtk',\n",
       " '/Users/ana/Documents/AnahitaSeresti/06_ContrastDispersion/1_CTPImages/VA08B/VA08B_05.vtk',\n",
       " '/Users/ana/Documents/AnahitaSeresti/06_ContrastDispersion/1_CTPImages/VA08B/VA08B_06.vtk',\n",
       " '/Users/ana/Documents/AnahitaSeresti/06_ContrastDispersion/1_CTPImages/VA08B/VA08B_07.vtk',\n",
       " '/Users/ana/Documents/AnahitaSeresti/06_ContrastDispersion/1_CTPImages/VA08B/VA08B_08.vtk',\n",
       " '/Users/ana/Documents/AnahitaSeresti/06_ContrastDispersion/1_CTPImages/VA08B/VA08B_09.vtk',\n",
       " '/Users/ana/Documents/AnahitaSeresti/06_ContrastDispersion/1_CTPImages/VA08B/VA08B_10.vtk',\n",
       " '/Users/ana/Documents/AnahitaSeresti/06_ContrastDispersion/1_CTPImages/VA08B/VA08B_11.vtk',\n",
       " '/Users/ana/Documents/AnahitaSeresti/06_ContrastDispersion/1_CTPImages/VA08B/VA08B_12.vtk',\n",
       " '/Users/ana/Documents/AnahitaSeresti/06_ContrastDispersion/1_CTPImages/VA08B/VA08B_13.vtk']"
      ]
     },
     "execution_count": 3,
     "metadata": {},
     "output_type": "execute_result"
    }
   ],
   "source": [
    "Image_names"
   ]
  },
  {
   "cell_type": "markdown",
   "metadata": {},
   "source": [
    "### Project Images to the Mesh"
   ]
  },
  {
   "cell_type": "code",
   "execution_count": 4,
   "metadata": {},
   "outputs": [],
   "source": [
    "def ProbeFilter(TargetData, SourceData):\n",
    "    ProbeFilter=vtk.vtkProbeFilter()\n",
    "    ProbeFilter.SetInputData(TargetData)\n",
    "    ProbeFilter.SetSourceData(SourceData)\n",
    "    ProbeFilter.Update()\n",
    "    \n",
    "    return ProbeFilter.GetOutput()"
   ]
  },
  {
   "cell_type": "code",
   "execution_count": 5,
   "metadata": {},
   "outputs": [
    {
     "data": {
      "text/plain": [
       "'VA08B_01'"
      ]
     },
     "execution_count": 5,
     "metadata": {},
     "output_type": "execute_result"
    }
   ],
   "source": [
    "os.path.splitext(os.path.basename(Image_names[0]))[0]"
   ]
  },
  {
   "cell_type": "code",
   "execution_count": 6,
   "metadata": {},
   "outputs": [],
   "source": [
    "Mesh = ReadVTUFile(vtu_file_)\n",
    "MeshProjections = {}\n",
    "for image_name in Image_names:\n",
    "    Image_ = ReadVTKFile(image_name)\n",
    "    mesh_projection = ProbeFilter(Mesh, Image_)\n",
    "    image_root_name = os.path.splitext(os.path.basename(image_name))[0]\n",
    "    mesh_name = f\"{graft_name}_{image_root_name}\"\n",
    "    MeshProjections[image_root_name] = mesh_projection\n",
    "    WriteVTUFile(os.path.join(path_,f\"{mesh_name}.vtu\"), mesh_projection)"
   ]
  },
  {
   "cell_type": "code",
   "execution_count": 7,
   "metadata": {},
   "outputs": [
    {
     "data": {
      "text/plain": [
       "{'VA08B_01': <vtkmodules.vtkCommonDataModel.vtkUnstructuredGrid(0x7f966bf05a40) at 0x1a4cbe860>,\n",
       " 'VA08B_02': <vtkmodules.vtkCommonDataModel.vtkUnstructuredGrid(0x7f966bf04d40) at 0x1a4cbe7a0>,\n",
       " 'VA08B_03': <vtkmodules.vtkCommonDataModel.vtkUnstructuredGrid(0x7f966be39b60) at 0x1a4cbeb00>,\n",
       " 'VA08B_04': <vtkmodules.vtkCommonDataModel.vtkUnstructuredGrid(0x7f966bf0bbf0) at 0x1a4cbe680>,\n",
       " 'VA08B_05': <vtkmodules.vtkCommonDataModel.vtkUnstructuredGrid(0x7f966bf0ad40) at 0x1a4cbeb60>,\n",
       " 'VA08B_06': <vtkmodules.vtkCommonDataModel.vtkUnstructuredGrid(0x7f966bccc960) at 0x1a4cbebc0>,\n",
       " 'VA08B_07': <vtkmodules.vtkCommonDataModel.vtkUnstructuredGrid(0x7f966bf076e0) at 0x1a4cbec20>,\n",
       " 'VA08B_08': <vtkmodules.vtkCommonDataModel.vtkUnstructuredGrid(0x7f9679ffddc0) at 0x1a4cbe500>,\n",
       " 'VA08B_09': <vtkmodules.vtkCommonDataModel.vtkUnstructuredGrid(0x7f966bf0e820) at 0x1a4cbe800>,\n",
       " 'VA08B_10': <vtkmodules.vtkCommonDataModel.vtkUnstructuredGrid(0x7f966bbfdc70) at 0x1a4cbec80>,\n",
       " 'VA08B_11': <vtkmodules.vtkCommonDataModel.vtkUnstructuredGrid(0x7f966be3a970) at 0x1a4cbece0>,\n",
       " 'VA08B_12': <vtkmodules.vtkCommonDataModel.vtkUnstructuredGrid(0x7f966bf11360) at 0x1a4cbed40>,\n",
       " 'VA08B_13': <vtkmodules.vtkCommonDataModel.vtkUnstructuredGrid(0x7f966bf13140) at 0x1a4cbeda0>}"
      ]
     },
     "execution_count": 7,
     "metadata": {},
     "output_type": "execute_result"
    }
   ],
   "source": [
    "MeshProjections"
   ]
  },
  {
   "cell_type": "markdown",
   "metadata": {},
   "source": [
    "### Read SimVascular Pathline Annotations"
   ]
  },
  {
   "cell_type": "code",
   "execution_count": 8,
   "metadata": {},
   "outputs": [
    {
     "name": "stdout",
     "output_type": "stream",
     "text": [
      "the number of points in the centerline is: 111\n"
     ]
    }
   ],
   "source": [
    "with open(centerline_file_, \"r\") as path:\n",
    "    #path.readlines()\n",
    "    tree = ET.parse(path)\n",
    "root = tree.getroot()\n",
    "\n",
    "direction_points = []\n",
    "for direction_point in root.findall(\".//path_point/tangent\"):\n",
    "    x = float(direction_point.attrib['x'])\n",
    "    y = float(direction_point.attrib['y'])\n",
    "    z = float(direction_point.attrib['z'])\n",
    "    direction_points.append((x,y,z))\n",
    "\n",
    "position_points = []\n",
    "for path_point in root.findall(\".//path_point/pos\"):\n",
    "    x = float(path_point.attrib['x'])\n",
    "    y = float(path_point.attrib['y'])\n",
    "    z = float(path_point.attrib['z'])\n",
    "    position_points.append((x,y,z))\n",
    "\n",
    "path_normals = []\n",
    "for normal in root.findall(\".//path_point/rotation\"):\n",
    "    x = float(normal.attrib['x'])\n",
    "    y = float(normal.attrib['y'])\n",
    "    z = float(normal.attrib['z'])\n",
    "    path_normals.append((x,y,z))\n",
    "\n",
    "NPoints = len(position_points)\n",
    "print(\"the number of points in the centerline is:\", NPoints)\n",
    "\n",
    "binormal = []\n",
    "for i in range(NPoints):\n",
    "    binormal_ = np.cross(np.array(direction_points[i]),np.array(path_normals[i]))\n",
    "    binormal_ /= np.linalg.norm(binormal_)\n",
    "    binormal.append(binormal_)\n",
    "    "
   ]
  },
  {
   "cell_type": "markdown",
   "metadata": {},
   "source": [
    "### Convert Pathline to VTP"
   ]
  },
  {
   "cell_type": "code",
   "execution_count": 9,
   "metadata": {},
   "outputs": [],
   "source": [
    "def points_to_vtp(points):\n",
    "    # Create VTK points\n",
    "    vtk_points = vtk.vtkPoints()\n",
    "    for point in points:\n",
    "        vtk_points.InsertNextPoint(point)\n",
    "\n",
    "    # Create a polyline\n",
    "    polyline = vtk.vtkPolyLine()\n",
    "    polyline.GetPointIds().SetNumberOfIds(len(points))\n",
    "    for i in range(len(points)):\n",
    "        polyline.GetPointIds().SetId(i, i)\n",
    "\n",
    "    # Create a cell array to store the polyline\n",
    "    cells = vtk.vtkCellArray()\n",
    "    cells.InsertNextCell(polyline)\n",
    "\n",
    "    # Create a polydata object\n",
    "    polydata = vtk.vtkPolyData()\n",
    "    polydata.SetPoints(vtk_points)\n",
    "    polydata.SetLines(cells)\n",
    "\n",
    "    return polydata"
   ]
  },
  {
   "cell_type": "code",
   "execution_count": 10,
   "metadata": {},
   "outputs": [],
   "source": [
    "centerline_vtp = points_to_vtp(position_points)\n",
    "peak_intensity = 5\n",
    "image_ = ReadVTKFile(Image_names[peak_intensity])"
   ]
  },
  {
   "cell_type": "markdown",
   "metadata": {},
   "source": [
    "### Search for the Maximum Gradient"
   ]
  },
  {
   "cell_type": "code",
   "execution_count": 11,
   "metadata": {},
   "outputs": [],
   "source": [
    "def gradient_filter(vtk_image):\n",
    "    gradient_filter = vtk.vtkImageGradient()\n",
    "    gradient_filter.SetInputData(vtk_image)\n",
    "    gradient_filter.SetDimensionality(3)\n",
    "    gradient_filter.Update()\n",
    "\n",
    "    return gradient_filter.GetOutput()\n",
    "    \n",
    "def define_borders(gradient_image):\n",
    "    magnitude_filter = vtk.vtkImageMagnitude()\n",
    "    magnitude_filter.SetInputData(gradient_image)\n",
    "    magnitude_filter.Update()\n",
    "    \n",
    "    return magnitude_filter.GetOutput()"
   ]
  },
  {
   "cell_type": "code",
   "execution_count": 12,
   "metadata": {},
   "outputs": [],
   "source": [
    "image_gradient_PI = define_borders(gradient_filter(image_))\n",
    "centerline_vtp_projected = ProbeFilter(centerline_vtp, image_gradient_PI)\n",
    "WriteVTPFile(os.path.join(path_, f\"{graft_name}.vtp\"), centerline_vtp_projected)"
   ]
  },
  {
   "cell_type": "code",
   "execution_count": 13,
   "metadata": {},
   "outputs": [],
   "source": [
    "magnitude_array_name = \"Magnitude\"\n",
    "MagnitudeArray = centerline_vtp_projected.GetPointData().GetArray(magnitude_array_name)\n",
    "ptidx = np.argmax(MagnitudeArray)\n",
    "Shuttle_mode_point = centerline_vtp_projected.GetPoint(ptidx)"
   ]
  },
  {
   "cell_type": "code",
   "execution_count": 14,
   "metadata": {},
   "outputs": [],
   "source": [
    "def clip_polydata_with_plane(polydata, origin, normal, inside_out=False):\n",
    "    plane = vtk.vtkPlane()\n",
    "    plane.SetOrigin(origin)\n",
    "    plane.SetNormal(normal)\n",
    "\n",
    "    clipper = vtk.vtkClipPolyData()\n",
    "    clipper.SetInputData(polydata)\n",
    "    clipper.SetClipFunction(plane)\n",
    "\n",
    "    if inside_out:\n",
    "        clipper.InsideOutOn()\n",
    "    else:\n",
    "        clipper.InsideOutOff()\n",
    "    \n",
    "    clipper.Update()\n",
    "\n",
    "    return clipper.GetOutput()\n",
    "\n",
    "def clip_USGrid_w_plane(USGrid, origin, normal, inside_out = False):\n",
    "    plane = vtk.vtkPlane()\n",
    "    plane.SetOrigin(origin)\n",
    "    plane.SetNormal(normal)\n",
    "\n",
    "    clipper = vtk.vtkClipDataSet()\n",
    "    clipper.SetInputData(USGrid)\n",
    "    clipper.SetClipFunction(plane)\n",
    "\n",
    "    if inside_out:\n",
    "        clipper.InsideOutOn()\n",
    "    else:\n",
    "        clipper.InsideOutOff()\n",
    "    \n",
    "    clipper.Update()\n",
    "\n",
    "    return clipper.GetOutput()"
   ]
  },
  {
   "cell_type": "code",
   "execution_count": 15,
   "metadata": {},
   "outputs": [],
   "source": [
    "UpperMesh = {}\n",
    "LowerMesh = {}\n",
    "\n",
    "for key, mesh in MeshProjections.items():\n",
    "    upper_mesh = clip_USGrid_w_plane(mesh, position_points[ptidx], direction_points[ptidx], True)\n",
    "    mesh_name_upper = f\"{graft_name}_{key}_upper\"\n",
    "    UpperMesh[key] = upper_mesh\n",
    "    WriteVTUFile(os.path.join(path_,f\"{mesh_name_upper}.vtu\"), upper_mesh)\n",
    "    \n",
    "    lower_mesh = clip_USGrid_w_plane(mesh, position_points[ptidx], direction_points[ptidx])\n",
    "    mesh_name_lower = f\"{graft_name}_{key}_lower\"\n",
    "    LowerMesh[key] = lower_mesh\n",
    "    WriteVTUFile(os.path.join(path_,f\"{mesh_name_lower}.vtu\"), lower_mesh)\n",
    "\n",
    "\n",
    "centerline_upper = clip_polydata_with_plane(centerline_vtp_projected, position_points[ptidx], direction_points[ptidx], True)\n",
    "centerline_lower = clip_polydata_with_plane(centerline_vtp_projected, position_points[ptidx], direction_points[ptidx])"
   ]
  },
  {
   "cell_type": "markdown",
   "metadata": {},
   "source": [
    "### Cutting the Lumen Every 3 mm"
   ]
  },
  {
   "cell_type": "code",
   "execution_count": 16,
   "metadata": {},
   "outputs": [],
   "source": [
    "cumulative_distance = [0]\n",
    "for i in range(1, NPoints):\n",
    "    dist_ = np.sqrt((position_points[i][0] - position_points[i-1][0])**2 +\n",
    "                    (position_points[i][1] - position_points[i-1][1])**2 +\n",
    "                    (position_points[i][2] - position_points[i-1][2])**2 )\n",
    "    cumulative_distance.append(dist_ + cumulative_distance[i-1])\n"
   ]
  },
  {
   "cell_type": "code",
   "execution_count": 17,
   "metadata": {},
   "outputs": [
    {
     "name": "stdout",
     "output_type": "stream",
     "text": [
      "[0, 1, 2, 3, 4, 9, 13, 17, 21, 22, 26, 27, 31, 32, 36, 40, 41, 45, 46, 50, 51, 55, 59, 60, 64, 69, 73, 74, 78, 79, 83, 89, 92, 96, 101, 105]\n",
      "[1, 1, 1, 1, 5, 4, 4, 4, 1, 4, 1, 4, 1, 4, 4, 1, 4, 1, 4, 1, 4, 4, 1, 4, 5, 4, 1, 4, 1, 4, 6, 3, 4, 5, 4]\n",
      "[0, 9, 13, 17, 21, 26, 31, 36, 40, 45, 50, 55, 59, 64, 69, 73, 78, 83, 89, 92, 96, 101, 105]\n"
     ]
    }
   ],
   "source": [
    "remainder  = np.array([int(i)%3 for i in cumulative_distance])\n",
    "indeces = np.where(remainder == 0)\n",
    "indeces = list(indeces[0])\n",
    "print(indeces)\n",
    "indeces_ = [indeces[i] - indeces[i-1] for i in range(1, len(indeces))]\n",
    "print(indeces_)\n",
    "indeces_1 = [0]\n",
    "indeces_1.extend(indeces_)\n",
    "indeces_1 = indeces_1\n",
    "\n",
    "indeces_2 = [indeces[i] for i in range(len(indeces_1)) if indeces_1[i] != 1]\n",
    "print(indeces_2)"
   ]
  },
  {
   "cell_type": "code",
   "execution_count": 176,
   "metadata": {},
   "outputs": [],
   "source": [
    "def SequentialCut(PointsArray, interval=3):\n",
    "    \"\"\"Finds the location of the cut along the centerline of the lumen.\n",
    "\n",
    "    Args:\n",
    "        PointsArray (list): a list of the position of the points along the centerline of the vessel.\n",
    "        interval (int, optional): To perform the clipping. Distance between the cross sections. Defaults to 3.\n",
    "    \"\"\"\n",
    "    NPoints = len(PointsArray)\n",
    "    cumulative_distance = [0]\n",
    "    for i in range(1, NPoints):\n",
    "        dist_ = np.sqrt((PointsArray[i][0] - PointsArray[i-1][0])**2 +\n",
    "                        (PointsArray[i][1] - PointsArray[i-1][1])**2 +\n",
    "                        (PointsArray[i][2] - PointsArray[i-1][2])**2 )\n",
    "        cumulative_distance.append(dist_ + cumulative_distance[i-1])\n",
    "\n",
    "    remainder  = np.array([int(i)%interval for i in cumulative_distance])\n",
    "    indeces = np.where(remainder == 0)\n",
    "    indeces = list(indeces[0])\n",
    "    indeces_ = [indeces[i] - indeces[i-1] for i in range(1, len(indeces))]\n",
    "    indeces_1 = [0]\n",
    "    indeces_1.extend(indeces_)\n",
    "    indeces_1 = indeces_1\n",
    "\n",
    "    indeces_2 = [indeces[i] for i in range(len(indeces_1)) if indeces_1[i] != 1]\n",
    "    #indeces_2[0] = 2\n",
    "\n",
    "    return indeces_2    "
   ]
  },
  {
   "cell_type": "code",
   "execution_count": 19,
   "metadata": {},
   "outputs": [],
   "source": [
    "def slice_w_plane(Volume,Origin,Norm):\n",
    "    plane=vtk.vtkPlane()\n",
    "    plane.SetOrigin(Origin)\n",
    "    plane.SetNormal(Norm)\n",
    "    Slice=vtk.vtkCutter()\n",
    "    Slice.GenerateTrianglesOff()\n",
    "    Slice.SetCutFunction(plane)\n",
    "    Slice.SetInputData(Volume)\n",
    "    Slice.Update()\n",
    "    return Slice.GetOutput()"
   ]
  },
  {
   "cell_type": "code",
   "execution_count": 20,
   "metadata": {},
   "outputs": [],
   "source": [
    "def SphereClip(volume_image,center,radius):\n",
    "    sphere = vtk.vtkSphere()\n",
    "    sphere.SetCenter(center)\n",
    "    sphere.SetRadius(radius)\n",
    "\n",
    "    clipper = vtk.vtkClipDataSet()\n",
    "    clipper.SetInputData(volume_image)\n",
    "    clipper.SetClipFunction(sphere)\n",
    "    clipper.InsideOutOn()\n",
    "    clipper.GetOutputInformation(1)\n",
    "    clipper.Update()\n",
    "\n",
    "    return clipper.GetOutput()"
   ]
  },
  {
   "cell_type": "code",
   "execution_count": 21,
   "metadata": {},
   "outputs": [],
   "source": [
    "def GetSurfaceArea(polydata):\n",
    "    properties = vtk.vtkMassProperties()\n",
    "    properties.AddInputData(polydata)\n",
    "    properties.Update()\n",
    "    return properties.GetSurfaceArea()"
   ]
  },
  {
   "cell_type": "code",
   "execution_count": 133,
   "metadata": {},
   "outputs": [],
   "source": [
    "CrossSections = vtk.vtkAppendPolyData()\n",
    "Area_ = [] \n",
    "for idx in indeces_2:\n",
    "    cross_section_ = slice_w_plane(MeshProjections['VA08B_06'], position_points[idx+2], direction_points[idx+2])\n",
    "    area_ = GetSurfaceArea(cross_section_)\n",
    "    Area_.append(area_)\n",
    "    radius = np.sqrt(area_/np.pi)\n",
    "    inner_section_ = SphereClip(cross_section_, GetCentroid(cross_section_), radius*0.75)\n",
    "    CrossSections.AddInputData(ExtractSurface(inner_section_))\n",
    "CrossSections.Update()\n",
    "Area = np.mean(np.array(Area_))\n",
    "WriteVTPFile(os.path.join(path_, \"CrossSections.vtp\"), CrossSections.GetOutput())"
   ]
  },
  {
   "cell_type": "markdown",
   "metadata": {},
   "source": [
    "### Extracting cross sections from upper and lower parts of the lumen"
   ]
  },
  {
   "cell_type": "markdown",
   "metadata": {},
   "source": [
    "#### Detecting which half is leading"
   ]
  },
  {
   "cell_type": "code",
   "execution_count": 24,
   "metadata": {},
   "outputs": [
    {
     "name": "stdout",
     "output_type": "stream",
     "text": [
      "scalars\n"
     ]
    }
   ],
   "source": [
    "ScalarArrayName = image_.GetPointData().GetArrayName(0)\n",
    "print(ScalarArrayName)"
   ]
  },
  {
   "cell_type": "code",
   "execution_count": 38,
   "metadata": {},
   "outputs": [
    {
     "data": {
      "image/png": "[encoded data removed]",
      "text/plain": [
       "<Figure size 640x480 with 1 Axes>"
      ]
     },
     "metadata": {},
     "output_type": "display_data"
    },
    {
     "name": "stdout",
     "output_type": "stream",
     "text": [
      "The upper half lags the lower half.\n"
     ]
    }
   ],
   "source": [
    "leading = False #if True upper half is leading\n",
    "upper_mean_ = []\n",
    "lower_mean_ = []\n",
    "for name in Image_names:\n",
    "    Image_ = ReadVTKFile(name)\n",
    "    centerline_ = ProbeFilter(centerline_vtp, Image_)\n",
    "    WriteVTPFile(os.path.join(path_, \"test_centerline.vtp\"), centerline_)\n",
    "    centerline_upper_ = clip_polydata_with_plane(centerline_, position_points[ptidx], direction_points[ptidx], True)\n",
    "    WriteVTPFile(os.path.join(path_, \"test_centerline_upper.vtp\"), centerline_upper_)\n",
    "    centerline_lower_ = clip_polydata_with_plane(centerline_, position_points[ptidx], direction_points[ptidx])\n",
    "    WriteVTPFile(os.path.join(path_, \"test_centerline_lower.vtp\"), centerline_lower_)\n",
    "    for i in range(Image_.GetPointData().GetNumberOfArrays()):\n",
    "        arrayname_ = Image_.GetPointData().GetArrayName(i)\n",
    "        if \"scalar\" in arrayname_.lower():\n",
    "            ScalarArrayName = arrayname_\n",
    "    upper_mean_.append(np.mean(vtk_to_numpy(centerline_upper_.GetPointData().GetArray(ScalarArrayName))))\n",
    "    lower_mean_.append(np.mean(vtk_to_numpy(centerline_lower_.GetPointData().GetArray(ScalarArrayName))))\n",
    "\n",
    "count = [i for i in range(len(Image_names))]\n",
    "plt.figure()\n",
    "plt.plot(count, upper_mean_, label = \"Upper Mean\")\n",
    "plt.plot(count, lower_mean_, label = \"Lower Mean\")\n",
    "plt.legend()\n",
    "plt.show()\n",
    "\n",
    "max_lower_idx = np.where(np.array(lower_mean_) == max(lower_mean_))\n",
    "max_upper_idx = np.where(np.array(upper_mean_) == max(upper_mean_))\n",
    "if max_lower_idx > max_upper_idx:\n",
    "    leading = True\n",
    "    print(\"The upper half leads the lower half.\")\n",
    "else:\n",
    "    leading = False\n",
    "    print(\"The upper half lags the lower half.\")\n",
    "\n"
   ]
  },
  {
   "cell_type": "markdown",
   "metadata": {},
   "source": [
    "#### Extract the cross sections along the upper part of the lumen"
   ]
  },
  {
   "cell_type": "code",
   "execution_count": 64,
   "metadata": {},
   "outputs": [],
   "source": [
    "def GetPoints(polydata):\n",
    "    \"\"\"Converts the polydata into a list of points.\n",
    "    \"\"\"\n",
    "    NPoints = polydata.GetNumberOfPoints()\n",
    "    points = []\n",
    "    for i in range(NPoints):\n",
    "        points.append(polydata.GetPoint(i))\n",
    "\n",
    "    return points"
   ]
  },
  {
   "cell_type": "markdown",
   "metadata": {},
   "source": [
    "todo: \n",
    "\n",
    "~~add another loop that loops over the Upper/Lower meshes.~~\n",
    "\n",
    "~~create an array of means of each cross section over time.~~\n",
    "\n",
    "~~interpolate the array (piecewise interpolation).~~\n",
    "\n",
    "~~remove the first and last elements of each array based on upper half leading or lagging.~~\n",
    "\n",
    "~~concatenate the arrays.~~"
   ]
  },
  {
   "cell_type": "markdown",
   "metadata": {},
   "source": [
    "The following two cells are for test purposes only."
   ]
  },
  {
   "cell_type": "code",
   "execution_count": null,
   "metadata": {},
   "outputs": [],
   "source": [
    "centerline_upper_points = GetPoints(centerline_upper)\n",
    "indeces_u = SequentialCut(centerline_upper_points, 2)\n",
    "CrossSections_u = vtk.vtkAppendPolyData()\n",
    "for idx in indeces_u:\n",
    "    cross_section_ = slice_w_plane(UpperMesh[list(UpperMesh.keys())[peak_intensity]], position_points[idx], direction_points[idx])\n",
    "    radius = np.sqrt(GetSurfaceArea(cross_section_)/np.pi)\n",
    "    inner_section_ = SphereClip(cross_section_, GetCentroid(cross_section_), radius*0.75)\n",
    "    CrossSections_u.AddInputData(ExtractSurface(inner_section_))\n",
    "CrossSections_u.Update()\n",
    "WriteVTPFile(os.path.join(path_, \"CrossSections_Upper.vtp\"), CrossSections_u.GetOutput())"
   ]
  },
  {
   "cell_type": "code",
   "execution_count": null,
   "metadata": {},
   "outputs": [],
   "source": [
    "centerline_lower_points = GetPoints(centerline_lower)\n",
    "indeces_l = SequentialCut(centerline_lower_points, 2)\n",
    "CrossSections_l = vtk.vtkAppendPolyData()\n",
    "for idx in indeces_l:\n",
    "    cross_section_ = slice_w_plane(LowerMesh[list(UpperMesh.keys())[peak_intensity]], position_points[len(centerline_upper_points) + idx], direction_points[len(centerline_upper_points) + idx])\n",
    "    radius = np.sqrt(GetSurfaceArea(cross_section_)/np.pi)\n",
    "    inner_section_ = SphereClip(cross_section_, GetCentroid(cross_section_), radius*0.75)\n",
    "    CrossSections_l.AddInputData(ExtractSurface(inner_section_))\n",
    "CrossSections_l.Update()\n",
    "WriteVTPFile(os.path.join(path_, \"CrossSections_Lower.vtp\"), CrossSections_l.GetOutput())"
   ]
  },
  {
   "cell_type": "markdown",
   "metadata": {},
   "source": [
    "#### Looping over all of the meshes and extracting a mean array"
   ]
  },
  {
   "cell_type": "code",
   "execution_count": null,
   "metadata": {},
   "outputs": [],
   "source": [
    "centerline_upper_points = GetPoints(centerline_upper)\n",
    "indeces_u = SequentialCut(centerline_upper_points, 2)\n",
    "\n",
    "UpperMeanArrays = {}\n",
    "for idx in indeces_u:\n",
    "    cross_section_mean_array = []\n",
    "    for key, mesh in UpperMesh.items():\n",
    "        cross_section_ = slice_w_plane(mesh, position_points[idx], direction_points[idx])\n",
    "        radius = np.sqrt(GetSurfaceArea(cross_section_)/np.pi)\n",
    "        inner_section_ = SphereClip(cross_section_, GetCentroid(cross_section_), radius*0.75)\n",
    "        for i in range(inner_section_.GetPointData().GetNumberOfArrays()):\n",
    "            arrayname_ = inner_section_.GetPointData().GetArrayName(i)\n",
    "            if \"scalar\" in arrayname_.lower():\n",
    "                ScalarArrayName = arrayname_\n",
    "        cross_section_mean_array.append(np.mean(vtk_to_numpy(inner_section_.GetPointData().GetArray(ScalarArrayName))))\n",
    "    \n",
    "    # add interpolation— then remove the element based on leading/lagging and store it in the dict\n",
    "    tac = np.empty(2*len(cross_section_mean_array) - 1)\n",
    "    for i in range(len(cross_section_mean_array) - 1):\n",
    "        tac[2*i] = cross_section_mean_array[i]\n",
    "        tac[2*i+1] = (cross_section_mean_array[i] + cross_section_mean_array[i+1])/2\n",
    "    \n",
    "    tac[-1] = cross_section_mean_array[-1]\n",
    "\n",
    "    UpperMeanArrays[cumulative_distance[idx]] = tac\n"
   ]
  },
  {
   "cell_type": "code",
   "execution_count": 145,
   "metadata": {},
   "outputs": [
    {
     "data": {
      "image/png": "[encoded data removed]",
      "text/plain": [
       "<Figure size 640x480 with 1 Axes>"
      ]
     },
     "metadata": {},
     "output_type": "display_data"
    }
   ],
   "source": [
    "count = [i for i in range(len(tac) - 1)]\n",
    "plt.figure()\n",
    "plt.scatter(count, UpperMeanArrays[list(UpperMeanArrays.keys())[-1]],marker = 'o', s = 100, label = \"Interpolation Results\")\n",
    "count = [i for i in range(len(tac)) if i%2 == 0]\n",
    "plt.scatter(count, cross_section_mean_array, marker = 'D', s = 30, label = \"Actual Data\")\n",
    "plt.legend(loc= \"upper left\")\n",
    "plt.show()"
   ]
  },
  {
   "cell_type": "code",
   "execution_count": null,
   "metadata": {},
   "outputs": [
    {
     "name": "stdout",
     "output_type": "stream",
     "text": [
      "13\n",
      "25\n",
      "13\n",
      "25\n",
      "13\n",
      "25\n",
      "13\n",
      "25\n",
      "13\n",
      "25\n",
      "13\n",
      "25\n"
     ]
    }
   ],
   "source": [
    "centerline_lower_points = GetPoints(centerline_lower)\n",
    "indeces_l = SequentialCut(centerline_lower_points, 2)\n",
    "\n",
    "LowerMeanArrays = {}\n",
    "for idx in indeces_l:\n",
    "    cross_section_mean_array = []\n",
    "    for key, mesh in LowerMesh.items():\n",
    "        cross_section_ = slice_w_plane(mesh, position_points[len(centerline_upper_points) + idx], direction_points[len(centerline_upper_points) + idx])\n",
    "        radius = np.sqrt(GetSurfaceArea(cross_section_)/np.pi)\n",
    "        inner_section_ = SphereClip(cross_section_, GetCentroid(cross_section_), radius*0.75)\n",
    "        for i in range(inner_section_.GetPointData().GetNumberOfArrays()):\n",
    "            arrayname_ = inner_section_.GetPointData().GetArrayName(i)\n",
    "            if \"scalar\" in arrayname_.lower():\n",
    "                ScalarArrayName = arrayname_\n",
    "        cross_section_mean_array.append(np.mean(vtk_to_numpy(inner_section_.GetPointData().GetArray(ScalarArrayName))))\n",
    "    \n",
    "    # add interpolation— then remove the element based on leading/lagging and store it in the dict\n",
    "    print(len(cross_section_mean_array))\n",
    "    tac = np.empty(2*len(cross_section_mean_array) - 1)\n",
    "    for i in range(len(cross_section_mean_array) - 1):\n",
    "        tac[2*i] = cross_section_mean_array[i]\n",
    "        tac[2*i+1] = (cross_section_mean_array[i] + cross_section_mean_array[i+1])/2\n",
    "    \n",
    "    tac[-1] = cross_section_mean_array[-1]\n",
    "    print(len(tac))\n",
    "\n",
    "    LowerMeanArrays[cumulative_distance[len(centerline_upper_points) + idx]] = tac"
   ]
  },
  {
   "cell_type": "markdown",
   "metadata": {},
   "source": [
    "**Is there any algorithm for UPSLOPE DETECTION?**"
   ]
  },
  {
   "cell_type": "code",
   "execution_count": 195,
   "metadata": {},
   "outputs": [
    {
     "name": "stdout",
     "output_type": "stream",
     "text": [
      "13\n",
      "25\n",
      "29 6\n",
      "29 6\n",
      "[0, 7, 10, 13, 15, 18, 21, 25, 28, 31, 34, 37, 40, 43, 47, 50, 53, 56, 59, 62, 65, 69, 72, 75, 78, 81, 84, 89, 91]\n",
      "[0, 2, 7, 10, 12, 15]\n",
      "[61.06543110699119, 63.51411616591481, 66.60158323371238, 68.81315891722252, 70.30710058270712, 71.83394892042195] 6 6\n"
     ]
    }
   ],
   "source": [
    "print(len(LowerMesh.keys()))\n",
    "print(len(LowerMeanArrays[list(LowerMeanArrays.keys())[0]]))\n",
    "print(len(indeces_u), len(indeces_l))\n",
    "print(len(UpperMeanArrays), len(LowerMeanArrays))\n",
    "\n",
    "print(indeces_u)\n",
    "print(indeces_l)\n",
    "keys = [cumulative_distance[len(centerline_upper_points) + idx] for idx in indeces_l]\n",
    "print(keys, len(set(keys)), len(keys))"
   ]
  },
  {
   "cell_type": "code",
   "execution_count": 232,
   "metadata": {},
   "outputs": [
    {
     "data": {
      "image/png": "[encoded data removed]",
      "text/plain": [
       "<Figure size 640x480 with 1 Axes>"
      ]
     },
     "metadata": {},
     "output_type": "display_data"
    }
   ],
   "source": [
    "sample_time = 11 # the time point when the spatial attenuation is extracted.\n",
    "\n",
    "SpatialArray = []\n",
    "SamplingLocation = list(UpperMeanArrays.keys()) + list(LowerMeanArrays.keys())\n",
    "for key, array in UpperMeanArrays.items():\n",
    "    SpatialArray.append(array[sample_time])\n",
    "for key, array in LowerMeanArrays.items():\n",
    "    SpatialArray.append(array[sample_time - 1 ])\n",
    "\n",
    "\n",
    "plt.figure()\n",
    "plt.scatter(SamplingLocation, SpatialArray, marker = 'o', s = 100, label = \"Centerline Attenuation\")\n",
    "x_fit = np.linspace(min(SamplingLocation), max(SamplingLocation), 100).reshape(-1,1)\n",
    "slope_s, intercept, _, _, _ = linregress(SamplingLocation, SpatialArray)\n",
    "y_fit = slope_s * x_fit + intercept\n",
    "plt.plot(x_fit, y_fit, 'r-', linewidth=2, label= f\"Trend Line, slope ={int(slope_s*100)/100}\")\n",
    "plt.ylim([300, 800])\n",
    "plt.xlabel(\"Distance from the inlet (mm)\", size = 16)\n",
    "plt.ylabel(\"Attenuation (HU)\", size = 16)\n",
    "plt.legend()\n",
    "plt.show()"
   ]
  },
  {
   "cell_type": "code",
   "execution_count": 235,
   "metadata": {},
   "outputs": [
    {
     "data": {
      "image/png": "[encoded data removed]",
      "text/plain": [
       "<Figure size 640x480 with 1 Axes>"
      ]
     },
     "metadata": {},
     "output_type": "display_data"
    }
   ],
   "source": [
    "upslope_begins = 8\n",
    "upslope_ends = 13\n",
    "\n",
    "heart_rate = 75 #beats per minutes\n",
    "beat_duration = 60/heart_rate\n",
    "\n",
    "array = UpperMeanArrays[list(UpperMeanArrays.keys())[0]]\n",
    "\n",
    "Upslope = array[upslope_begins:upslope_ends]\n",
    "count = [i * beat_duration for i in range(len(array))]\n",
    "count_upslope = [i * beat_duration for i in range(upslope_begins, upslope_ends)]\n",
    "\n",
    "plt.figure()\n",
    "plt.scatter(count, array, marker = 'o', s = 100, label = \"Centerline Attenuation\")\n",
    "t_fit = np.linspace(min(count_upslope), max(count_upslope), 100).reshape(-1,1)\n",
    "slope_t, intercept, _, _, _ = linregress(count_upslope, Upslope)\n",
    "y_fit_t = slope_t * t_fit + intercept\n",
    "plt.plot(t_fit, y_fit_t, 'r-', linewidth=2, label= f\"Trend Line, slope ={int(slope_t*100)/100}\")\n",
    "plt.xlabel(\"time (s)\", size = 16)\n",
    "plt.ylabel(\"Attenuation (HU)\", size = 16)\n",
    "plt.legend(loc = 'upper left')\n",
    "plt.show()"
   ]
  },
  {
   "cell_type": "code",
   "execution_count": 236,
   "metadata": {},
   "outputs": [
    {
     "name": "stdout",
     "output_type": "stream",
     "text": [
      "23.622050996050064 cm/s\n",
      "2.635059489121798 mm^2\n",
      "37.34730577779645 mL/min\n"
     ]
    }
   ],
   "source": [
    "velocity = abs(slope_t/slope_s)\n",
    "flow_rate = velocity*Area/1000*60\n",
    "\n",
    "print(velocity/10, \"cm/s\")\n",
    "print(Area, \"mm^2\")\n",
    "print(flow_rate, \"mL/min\")"
   ]
  },
  {
   "cell_type": "markdown",
   "metadata": {},
   "source": [
    "todo:\n",
    "\n",
    " ~~- Verify the interpolation and concatenation~~\n",
    "\n",
    " ~~- IMPLEMENT the BAYSIAN FRAMEWORK~~: **Theoretical work is done: implementation**"
   ]
  },
  {
   "cell_type": "markdown",
   "metadata": {},
   "source": [
    "## Velocity Estimation Using Adaptive Filtering of the Advection Diffusion Equation"
   ]
  },
  {
   "cell_type": "markdown",
   "metadata": {},
   "source": [
    "The combination of the adaptive filters and modelling:\n",
    " 1) Baysian theorem: we assume that the system noise is a Guassian noise.\n",
    "    \n",
    "    $$ noise \\ \\alpha \\ e^(\\frac{m^2}{\\sigma^2}) $$\n",
    "\n",
    "    where $m$ is the mean and $\\sigma$ is the standard diviation.\n",
    "\n",
    "    $$ m = \\sum \\sqrt(C_{measured}^2 - C_{model}^2) $$\n",
    "\n",
    "    where C is the contrast dispersion measured from the vessel or modeled by the Advection-Dissusion equation. In this context m is the Mean Squared Error ($MSE$).\n",
    "    From a Baysian perspective, the velocity with maximum probability is what maximizes the likelihood of our observation. So, the velocity that is most probable is the velocity that minimizes $MSE$.\n",
    "\n",
    " 2) Steps to implement the concept of adaptive filter on the velocity estimation:\n",
    "\n",
    "   - Estimate velocity from inverse advection diffusion:\n",
    "\n",
    "   $$ v_0 \\ = \\ -\\frac{\\frac{\\partial C}{\\partial t}}{\\frac{\\partial C}{\\partial x}} $$\n",
    "\n",
    "   - Solve ODE assuming that $\\frac{\\partial C}{\\partial t}$ is constant:\n",
    "\n",
    "   $$ D\\frac{\\partial^2 C_n}{\\partial x^2} - v_n \\frac{\\partial C_n}{\\partial x} - Slope_t $$\n",
    "\n",
    "   - Find $MSE$.\n",
    "\n",
    "   - Update velocity:\n",
    "\n",
    "   $$ v_{n+1} = v_n + \\mu.E.\\frac{\\partial C}{\\partial x} $$\n",
    "\n",
    "   - Repeat until convergance.\n"
   ]
  },
  {
   "cell_type": "markdown",
   "metadata": {},
   "source": [
    "step 1: ODE solver\n",
    "\n",
    "$$ D \\ddot C - v \\dot C - slope_t = 0 $$\n",
    "$$ z = \\dot C $$\n",
    "$$ D \\dot z - vz - slope_t = 0 $$"
   ]
  },
  {
   "cell_type": "code",
   "execution_count": 250,
   "metadata": {},
   "outputs": [],
   "source": [
    "def dSdx(t, S, v, slope_t):\n",
    "    z, C = S\n",
    "    return [C, (v*z + slope_t)/0.04] # D = 0.04\n",
    "\n",
    "\n",
    "S_0 = [slope_s, y_fit[0][0]]"
   ]
  },
  {
   "cell_type": "code",
   "execution_count": 249,
   "metadata": {},
   "outputs": [
    {
     "name": "stdout",
     "output_type": "stream",
     "text": [
      "-0.81177461064691\n",
      "589.0083692684995\n"
     ]
    }
   ],
   "source": [
    "print(slope_s)\n",
    "print(y_fit[0][0])"
   ]
  },
  {
   "cell_type": "code",
   "execution_count": 255,
   "metadata": {},
   "outputs": [
    {
     "data": {
      "text/plain": [
       "array([ 0.        ,  0.72559544,  1.45119089,  2.17678633,  2.90238177,\n",
       "        3.62797722,  4.35357266,  5.07916811,  5.80476355,  6.53035899,\n",
       "        7.25595444,  7.98154988,  8.70714532,  9.43274077, 10.15833621,\n",
       "       10.88393165, 11.6095271 , 12.33512254, 13.06071799, 13.78631343,\n",
       "       14.51190887, 15.23750432, 15.96309976, 16.6886952 , 17.41429065,\n",
       "       18.13988609, 18.86548153, 19.59107698, 20.31667242, 21.04226787,\n",
       "       21.76786331, 22.49345875, 23.2190542 , 23.94464964, 24.67024508,\n",
       "       25.39584053, 26.12143597, 26.84703141, 27.57262686, 28.2982223 ,\n",
       "       29.02381775, 29.74941319, 30.47500863, 31.20060408, 31.92619952,\n",
       "       32.65179496, 33.37739041, 34.10298585, 34.82858129, 35.55417674,\n",
       "       36.27977218, 37.00536763, 37.73096307, 38.45655851, 39.18215396,\n",
       "       39.9077494 , 40.63334484, 41.35894029, 42.08453573, 42.81013117,\n",
       "       43.53572662, 44.26132206, 44.98691751, 45.71251295, 46.43810839,\n",
       "       47.16370384, 47.88929928, 48.61489472, 49.34049017, 50.06608561,\n",
       "       50.79168105, 51.5172765 , 52.24287194, 52.96846739, 53.69406283,\n",
       "       54.41965827, 55.14525372, 55.87084916, 56.5964446 , 57.32204005,\n",
       "       58.04763549, 58.77323093, 59.49882638, 60.22442182, 60.95001727,\n",
       "       61.67561271, 62.40120815, 63.1268036 , 63.85239904, 64.57799448,\n",
       "       65.30358993, 66.02918537, 66.75478081, 67.48037626, 68.2059717 ,\n",
       "       68.93156715, 69.65716259, 70.38275803, 71.10835348, 71.83394892])"
      ]
     },
     "execution_count": 255,
     "metadata": {},
     "output_type": "execute_result"
    }
   ],
   "source": [
    "x_fit.T[0]"
   ]
  },
  {
   "cell_type": "code",
   "execution_count": 256,
   "metadata": {},
   "outputs": [
    {
     "name": "stdout",
     "output_type": "stream",
     "text": [
      " lsoda--  at t (=r1), too much accuracy requested  \u0000\u0000\n",
      "       for precision of machine..  see tolsf (=r2) \u0000\u0000\n",
      "      in above,  r1 =  0.9106069770170D+01   r2 =                  NaN\n"
     ]
    },
    {
     "name": "stderr",
     "output_type": "stream",
     "text": [
      "/var/folders/05/bygg4rdj3n7543jkngl6k6z40000gn/T/ipykernel_54595/807093257.py:3: RuntimeWarning: overflow encountered in scalar divide\n",
      "  return [C, (v*z + slope_t)/0.04] # D = 0.04\n",
      "/usr/local/anaconda3/envs/vtkfenics/lib/python3.11/site-packages/scipy/integrate/_odepack_py.py:248: ODEintWarning: Excess accuracy requested (tolerances too small). Run with full_output = 1 to get quantitative information.\n",
      "  warnings.warn(warning_msg, ODEintWarning)\n"
     ]
    }
   ],
   "source": [
    "sol = odeint(dSdx, y0=S_0, t=x_fit.T[0], tfirst=True, args = (velocity, slope_t))"
   ]
  },
  {
   "cell_type": "code",
   "execution_count": 257,
   "metadata": {},
   "outputs": [
    {
     "data": {
      "text/plain": [
       "array([5.89008369e+002, 4.84601730e+026, 7.97404068e+050, 1.31211510e+075,\n",
       "       2.15906353e+099, 3.55270304e+123, 5.84591364e+147, 9.61935344e+171,\n",
       "       1.58284857e+196, 2.60455094e+220, 4.28574516e+244, 7.05212223e+268,\n",
       "       1.16041496e+293,             nan, 3.53580615e-314, 3.53580862e-314,\n",
       "       3.53580774e-314, 2.12745523e-314, 2.12732781e-314, 2.12732781e-314,\n",
       "       3.53580530e-314, 2.12745620e-314, 3.53496698e-314, 3.54064965e-314,\n",
       "       2.12745821e-314, 2.12745629e-314, 2.20125713e-314, 2.20125713e-314,\n",
       "       2.20125713e-314, 2.12745629e-314, 2.22158285e-314, 3.54127782e-314,\n",
       "       2.20125713e-314, 2.12745523e-314, 2.21859259e-314, 2.21859259e-314,\n",
       "       3.53643613e-314, 2.12745620e-314, 2.12745662e-314, 2.12745523e-314,\n",
       "       3.54127988e-314, 2.12745620e-314, 2.12745634e-314, 2.21894133e-314,\n",
       "       3.54128223e-314, 2.12745620e-314, 2.12745629e-314, 3.54127822e-314,\n",
       "       2.12745622e-314, 2.12745523e-314, 2.12745523e-314, 3.52138350e-314,\n",
       "       2.12745620e-314, 2.12745662e-314, 2.12745523e-314, 2.12745662e-314,\n",
       "       2.12745523e-314, 2.12732781e-314, 2.12732781e-314, 2.12720844e-314,\n",
       "       2.12745816e-314, 2.12745662e-314, 3.53664141e-314, 2.12745620e-314,\n",
       "       2.12745821e-314, 2.12745629e-314, 2.20125713e-314, 2.20125713e-314,\n",
       "       2.20125713e-314, 2.12745622e-314, 2.12745523e-314, 2.12732781e-314,\n",
       "       2.12732781e-314, 2.12732781e-314, 3.52138744e-314, 2.12721697e-314,\n",
       "       2.12721697e-314, 2.12734525e-314, 2.12745523e-314, 3.52138388e-314,\n",
       "       2.12745634e-314, 3.52138099e-314, 2.12745620e-314, 3.53496516e-314,\n",
       "       3.53682130e-314, 2.20374849e-314, 2.12745622e-314, 2.20374849e-314,\n",
       "       3.52137973e-314, 2.12745669e-314, 2.20125713e-314, 3.52137985e-314,\n",
       "       2.20125713e-314, 2.12732781e-314, 2.12732781e-314, 2.12720844e-314,\n",
       "       2.12745523e-314, 3.52138378e-314, 2.12745620e-314, 3.52138438e-314])"
      ]
     },
     "execution_count": 257,
     "metadata": {},
     "output_type": "execute_result"
    }
   ],
   "source": [
    "C_sol = sol.T[1]\n",
    "C_sol"
   ]
  },
  {
   "cell_type": "markdown",
   "metadata": {},
   "source": [
    "The values are way off so the best way is to solve for C analytically."
   ]
  },
  {
   "cell_type": "markdown",
   "metadata": {},
   "source": [
    "Let's assume diffusion force is zero for simplicity. Then, the problem changes into solving the following PDE for $C(t,x)$:\n",
    "\n",
    "$$ \\frac{\\partial C}{\\partial t} = -v \\frac{\\partial C}{\\partial x} $$"
   ]
  },
  {
   "cell_type": "markdown",
   "metadata": {},
   "source": [
    "**todo:**\n",
    "Implement a Fenics pipeline here to solve for the above PDE. OR solve teh pde with FFT.\n"
   ]
  },
  {
   "cell_type": "markdown",
   "metadata": {},
   "source": [
    "# Waterfall plot of the TAC along the vessel"
   ]
  },
  {
   "cell_type": "code",
   "execution_count": 258,
   "metadata": {},
   "outputs": [
    {
     "data": {
      "text/plain": [
       "{0: array([ 45.375  ,  71.375  ,  97.375  ,  72.09375,  46.8125 ,  51.125  ,\n",
       "         55.4375 , 112.75   , 170.0625 , 314.15625, 458.25   , 620.96875,\n",
       "        783.6875 , 796.78125, 809.875  , 651.84375, 493.8125 , 377.125  ,\n",
       "        260.4375 , 219.8125 , 179.1875 , 139.59375, 100.     , 111.90625,\n",
       "        123.8125 ]),\n",
       " 2.3460331157734426: array([ 46.59459459,  45.78378378,  44.97297297,  42.47747748,\n",
       "         39.98198198,  43.54054054,  47.0990991 ,  74.75675676,\n",
       "        102.41441441, 254.89189189, 407.36936937, 558.66216216,\n",
       "        709.95495495, 719.04954955, 728.14414414, 590.98198198,\n",
       "        453.81981982, 337.54054054, 221.26126126, 188.38738739,\n",
       "        155.51351351, 138.20720721, 120.9009009 , 121.1036036 ,\n",
       "        121.30630631]),\n",
       " 4.384840667779874: array([ 58.53982301,  59.60176991,  60.66371681,  64.75221239,\n",
       "         68.84070796,  73.77876106,  78.71681416,  97.16814159,\n",
       "        115.61946903, 266.92920354, 418.23893805, 582.51769912,\n",
       "        746.79646018, 750.36725664, 753.9380531 , 605.43362832,\n",
       "        456.92920354, 343.25221239, 229.57522124, 192.12831858,\n",
       "        154.68141593, 146.36283186, 138.04424779, 142.10176991,\n",
       "        146.15929204]),\n",
       " 6.624364554309403: array([ 61.88965517,  68.52413793,  75.15862069,  74.22758621,\n",
       "         73.29655172,  62.89310345,  52.48965517,  90.67931034,\n",
       "        128.86896552, 279.9       , 430.93103448, 592.72413793,\n",
       "        754.51724138, 759.02758621, 763.53793103, 610.8137931 ,\n",
       "        458.08965517, 348.63448276, 239.17931034, 188.8137931 ,\n",
       "        138.44827586, 132.45862069, 126.46896552, 130.38965517,\n",
       "        134.31034483]),\n",
       " 8.108977891353373: array([ 57.22142857,  60.78928571,  64.35714286,  69.05      ,\n",
       "         73.74285714,  69.07142857,  64.4       ,  90.00357143,\n",
       "        115.60714286, 268.94642857, 422.28571429, 583.38214286,\n",
       "        744.47857143, 744.33214286, 744.18571429, 591.55357143,\n",
       "        438.92142857, 346.44285714, 253.96428571, 196.78928571,\n",
       "        139.61428571, 139.08571429, 138.55714286, 127.79285714,\n",
       "        117.02857143]),\n",
       " 10.195553701477555: array([ 69.64166667,  64.58333333,  59.525     ,  46.87083333,\n",
       "         34.21666667,  49.68333333,  65.15      ,  88.07083333,\n",
       "        110.99166667, 258.7125    , 406.43333333, 557.1125    ,\n",
       "        707.79166667, 726.6875    , 745.58333333, 602.10416667,\n",
       "        458.625     , 349.6875    , 240.75      , 188.16666667,\n",
       "        135.58333333, 132.2       , 128.81666667, 122.12083333,\n",
       "        115.425     ]),\n",
       " 12.09520474311648: array([ 54.95384615,  61.66153846,  68.36923077,  65.19230769,\n",
       "         62.01538462,  62.57692308,  63.13846154,  88.11538462,\n",
       "        113.09230769, 281.06538462, 449.03846154, 584.29615385,\n",
       "        719.55384615, 727.47692308, 735.4       , 601.56153846,\n",
       "        467.72307692, 356.20384615, 244.68461538, 190.73076923,\n",
       "        136.77692308, 135.87307692, 134.96923077, 131.56153846,\n",
       "        128.15384615]),\n",
       " 14.429191329078224: array([ 61.38392857,  66.59821429,  71.8125    ,  75.59375   ,\n",
       "         79.375     ,  63.22321429,  47.07142857,  73.37946429,\n",
       "         99.6875    , 268.04017857, 436.39285714, 567.72767857,\n",
       "        699.0625    , 723.91964286, 748.77678571, 601.48660714,\n",
       "        454.19642857, 338.88392857, 223.57142857, 191.30803571,\n",
       "        159.04464286, 148.48214286, 137.91964286, 135.28571429,\n",
       "        132.65178571]),\n",
       " 16.181110808657426: array([ 55.27272727,  60.82828283,  66.38383838,  58.26262626,\n",
       "         50.14141414,  35.7979798 ,  21.45454545,  67.66666667,\n",
       "        113.87878788, 274.34343434, 434.80808081, 595.32323232,\n",
       "        755.83838384, 754.5       , 753.16161616, 603.24747475,\n",
       "        453.33333333, 338.43939394, 223.54545455, 186.44949495,\n",
       "        149.35353535, 135.57070707, 121.78787879, 118.19191919,\n",
       "        114.5959596 ]),\n",
       " 18.031121531116252: array([ 60.92929293,  61.47474747,  62.02020202,  57.47474747,\n",
       "         52.92929293,  54.7020202 ,  56.47474747,  84.41414141,\n",
       "        112.35353535, 265.23737374, 418.12121212, 563.38888889,\n",
       "        708.65656566, 719.07070707, 729.48484848, 585.47474747,\n",
       "        441.46464646, 329.41919192, 217.37373737, 183.35353535,\n",
       "        149.33333333, 140.73737374, 132.14141414, 128.08585859,\n",
       "        124.03030303]),\n",
       " 20.00514348614907: array([ 61.34831461,  64.8258427 ,  68.30337079,  62.1011236 ,\n",
       "         55.8988764 ,  54.12921348,  52.35955056,  73.66853933,\n",
       "         94.97752809, 259.63483146, 424.29213483, 567.08426966,\n",
       "        709.87640449, 713.92696629, 717.97752809, 579.3988764 ,\n",
       "        440.82022472, 339.82022472, 238.82022472, 183.11797753,\n",
       "        127.41573034, 120.68539326, 113.95505618, 118.80898876,\n",
       "        123.66292135]),\n",
       " 22.05174114604438: array([ 69.11702128,  75.68617021,  82.25531915,  80.35106383,\n",
       "         78.44680851,  63.74468085,  49.04255319,  86.95212766,\n",
       "        124.86170213, 283.64893617, 442.43617021, 576.10638298,\n",
       "        709.77659574, 708.59574468, 707.41489362, 571.95212766,\n",
       "        436.4893617 , 326.62765957, 216.76595745, 187.61702128,\n",
       "        158.46808511, 134.84574468, 111.22340426, 114.24468085,\n",
       "        117.26595745]),\n",
       " 24.09508837224695: array([ 62.06730769,  62.86057692,  63.65384615,  67.88461538,\n",
       "         72.11538462,  80.44711538,  88.77884615, 103.01923077,\n",
       "        117.25961538, 260.86057692, 404.46153846, 550.01923077,\n",
       "        695.57692308, 713.47115385, 731.36538462, 588.48557692,\n",
       "        445.60576923, 341.36538462, 237.125     , 182.75961538,\n",
       "        128.39423077, 120.90384615, 113.41346154, 116.71153846,\n",
       "        120.00961538]),\n",
       " 26.06019624350429: array([ 34.32173913,  46.16521739,  58.00869565,  57.96956522,\n",
       "         57.93043478,  59.66086957,  61.39130435,  90.6       ,\n",
       "        119.80869565, 249.2       , 378.59130435, 554.72173913,\n",
       "        730.85217391, 737.99130435, 745.13043478, 601.41304348,\n",
       "        457.69565217, 361.0173913 , 264.33913043, 192.66521739,\n",
       "        120.99130435, 119.8       , 118.60869565, 124.49130435,\n",
       "        130.37391304]),\n",
       " 28.530181873392046: array([ 34.6746988 ,  33.60843373,  32.54216867,  51.69277108,\n",
       "         70.84337349,  69.39759036,  67.95180723, 102.84939759,\n",
       "        137.74698795, 274.53614458, 411.3253012 , 566.57831325,\n",
       "        721.8313253 , 738.76506024, 755.69879518, 617.5060241 ,\n",
       "        479.31325301, 355.43975904, 231.56626506, 197.63855422,\n",
       "        163.71084337, 149.18674699, 134.6626506 , 139.8313253 ,\n",
       "        145.        ]),\n",
       " 30.319694642529583: array([ 47.79166667,  49.125     ,  50.45833333,  54.22222222,\n",
       "         57.98611111,  61.625     ,  65.26388889, 103.66666667,\n",
       "        142.06944444, 276.5625    , 411.05555556, 569.74305556,\n",
       "        728.43055556, 742.59027778, 756.75      , 608.43055556,\n",
       "        460.11111111, 349.40277778, 238.69444444, 194.09722222,\n",
       "        149.5       , 135.38194444, 121.26388889, 134.58333333,\n",
       "        147.90277778]),\n",
       " 32.14309646013315: array([ 39.15463918,  51.59278351,  64.03092784,  59.34536082,\n",
       "         54.65979381,  64.59793814,  74.53608247,  91.57216495,\n",
       "        108.60824742, 243.76804124, 378.92783505, 544.08247423,\n",
       "        709.2371134 , 725.93298969, 742.62886598, 602.63917526,\n",
       "        462.64948454, 350.98453608, 239.31958763, 183.44329897,\n",
       "        127.56701031, 123.96391753, 120.36082474, 129.40206186,\n",
       "        138.44329897]),\n",
       " 34.052793410834745: array([ 41.06956522,  47.2826087 ,  53.49565217,  65.90869565,\n",
       "         78.32173913,  74.98695652,  71.65217391, 103.59565217,\n",
       "        135.53913043, 253.48695652, 371.43478261, 534.44782609,\n",
       "        697.46086957, 705.34782609, 713.23478261, 577.27826087,\n",
       "        441.32173913, 341.4826087 , 241.64347826, 184.27391304,\n",
       "        126.90434783, 120.4       , 113.89565217, 117.33043478,\n",
       "        120.76521739]),\n",
       " 36.05020217425476: array([ 75.08910891,  71.85148515,  68.61386139,  71.99009901,\n",
       "         75.36633663,  74.06435644,  72.76237624, 100.36633663,\n",
       "        127.97029703, 270.76732673, 413.56435644, 578.5       ,\n",
       "        743.43564356, 737.76732673, 732.0990099 , 589.23267327,\n",
       "        446.36633663, 341.16831683, 235.97029703, 181.14851485,\n",
       "        126.32673267, 118.01980198, 109.71287129, 109.33168317,\n",
       "        108.95049505]),\n",
       " 38.07752782363328: array([ 43.15686275,  45.69117647,  48.2254902 ,  48.00490196,\n",
       "         47.78431373,  57.67156863,  67.55882353,  99.66176471,\n",
       "        131.76470588, 281.54411765, 431.32352941, 575.82843137,\n",
       "        720.33333333, 741.37254902, 762.41176471, 618.58333333,\n",
       "        474.75490196, 356.32352941, 237.89215686, 184.93137255,\n",
       "        131.97058824, 111.25980392,  90.54901961, 102.64705882,\n",
       "        114.74509804]),\n",
       " 40.06581865515441: array([ 56.19178082,  59.20547945,  62.21917808,  60.49315068,\n",
       "         58.76712329,  68.90410959,  79.04109589,  94.96575342,\n",
       "        110.89041096, 263.52054795, 416.15068493, 570.19863014,\n",
       "        724.24657534, 744.15068493, 764.05479452, 617.04109589,\n",
       "        470.02739726, 364.0890411 , 258.15068493, 209.40410959,\n",
       "        160.65753425, 152.74657534, 144.83561644, 128.4109589 ,\n",
       "        111.98630137]),\n",
       " 42.58031590899721: array([ 28.6097561 ,  30.51829268,  32.42682927,  42.17073171,\n",
       "         51.91463415,  67.05487805,  82.19512195,  99.5       ,\n",
       "        116.80487805, 252.56097561, 388.31707317, 570.43902439,\n",
       "        752.56097561, 768.56097561, 784.56097561, 633.47560976,\n",
       "        482.3902439 , 368.54878049, 254.70731707, 207.65853659,\n",
       "        160.6097561 , 149.52439024, 138.43902439, 126.14634146,\n",
       "        113.85365854]),\n",
       " 44.40685595155997: array([ 50.48235294,  44.81764706,  39.15294118,  58.45294118,\n",
       "         77.75294118,  73.94705882,  70.14117647,  89.88235294,\n",
       "        109.62352941, 240.8       , 371.97647059, 560.44705882,\n",
       "        748.91764706, 763.51764706, 778.11764706, 625.69411765,\n",
       "        473.27058824, 359.1       , 244.92941176, 191.15294118,\n",
       "        137.37647059, 133.61176471, 129.84705882, 124.18823529,\n",
       "        118.52941176]),\n",
       " 46.210038668761364: array([ 49.5625   ,  49.984375 ,  50.40625  ,  58.6875   ,  66.96875  ,\n",
       "         51.4921875,  36.015625 ,  64.3359375,  92.65625  , 230.0859375,\n",
       "        367.515625 , 550.1796875, 732.84375  , 751.8359375, 770.828125 ,\n",
       "        620.6875   , 470.546875 , 352.75     , 234.953125 , 192.3125   ,\n",
       "        149.671875 , 143.453125 , 137.234375 , 120.75     , 104.265625 ]),\n",
       " 48.03886860568927: array([ 36.22368421,  35.08552632,  33.94736842,  43.28289474,\n",
       "         52.61842105,  62.29605263,  71.97368421,  91.17763158,\n",
       "        110.38157895, 234.96710526, 359.55263158, 543.13815789,\n",
       "        726.72368421, 743.88815789, 761.05263158, 611.38815789,\n",
       "        461.72368421, 349.76973684, 237.81578947, 203.72368421,\n",
       "        169.63157895, 151.57894737, 133.52631579, 114.875     ,\n",
       "         96.22368421]),\n",
       " 50.17714831572474: array([ 62.81578947,  64.51315789,  66.21052632,  57.59868421,\n",
       "         48.98684211,  68.98026316,  88.97368421, 110.67105263,\n",
       "        132.36842105, 264.34210526, 396.31578947, 564.65789474,\n",
       "        733.        , 763.75657895, 794.51315789, 661.23026316,\n",
       "        527.94736842, 393.44078947, 258.93421053, 213.40131579,\n",
       "        167.86842105, 154.5       , 141.13157895, 135.88157895,\n",
       "        130.63157895]),\n",
       " 52.308235983992894: array([ 34.64864865,  44.27702703,  53.90540541,  61.4527027 ,\n",
       "         69.        ,  67.2027027 ,  65.40540541,  80.00675676,\n",
       "         94.60810811, 249.34459459, 404.08108108, 573.31081081,\n",
       "        742.54054054, 758.90540541, 775.27027027, 637.68243243,\n",
       "        500.09459459, 384.41891892, 268.74324324, 215.97297297,\n",
       "        163.2027027 , 143.27702703, 123.35135135, 126.2027027 ,\n",
       "        129.05405405]),\n",
       " 54.3869941199756: array([ 38.56      ,  45.58666667,  52.61333333,  49.15333333,\n",
       "         45.69333333,  64.77333333,  83.85333333,  91.37333333,\n",
       "         98.89333333, 244.48      , 390.06666667, 554.78666667,\n",
       "        719.50666667, 752.38666667, 785.26666667, 662.18666667,\n",
       "        539.10666667, 404.96666667, 270.82666667, 218.15333333,\n",
       "        165.48      , 144.99333333, 124.50666667, 113.38      ,\n",
       "        102.25333333]),\n",
       " 56.36437751838808: array([ 50.71875  ,  54.9453125,  59.171875 ,  65.5078125,  71.84375  ,\n",
       "         97.125    , 122.40625  , 113.046875 , 103.6875   , 254.9296875,\n",
       "        406.171875 , 573.8671875, 741.5625   , 754.3828125, 767.203125 ,\n",
       "        617.3671875, 467.53125  , 366.8359375, 266.140625 , 198.6015625,\n",
       "        131.0625   , 128.671875 , 126.28125  , 125.8203125, 125.359375 ])}"
      ]
     },
     "execution_count": 258,
     "metadata": {},
     "output_type": "execute_result"
    }
   ],
   "source": [
    "UpperMeanArrays"
   ]
  },
  {
   "cell_type": "code",
   "execution_count": 264,
   "metadata": {},
   "outputs": [
    {
     "name": "stdout",
     "output_type": "stream",
     "text": [
      "25\n",
      "25\n"
     ]
    }
   ],
   "source": [
    "print(len(np.array(count)))\n",
    "print(len(UpperMeanArrays[0]))\n"
   ]
  },
  {
   "cell_type": "code",
   "execution_count": 283,
   "metadata": {},
   "outputs": [
    {
     "name": "stdout",
     "output_type": "stream",
     "text": [
      "[ 0.          2.34603312  4.38484067  6.62436455  8.10897789 10.1955537\n",
      " 12.09520474 14.42919133 16.18111081 18.03112153 20.00514349 22.05174115\n",
      " 24.09508837 26.06019624 28.53018187 30.31969464 32.14309646 34.05279341\n",
      " 36.05020217 38.07752782 40.06581866 42.58031591 44.40685595 46.21003867\n",
      " 48.03886861 50.17714832 52.30823598 54.38699412 56.36437752]\n",
      "29\n",
      "2\n"
     ]
    },
    {
     "data": {
      "text/plain": [
       "range(0, 29, 2)"
      ]
     },
     "execution_count": 283,
     "metadata": {},
     "output_type": "execute_result"
    }
   ],
   "source": [
    "L = np.array(list(UpperMeanArrays.keys()))\n",
    "print(L)\n",
    "print(len(L))\n",
    "step = int(len(L)/10)\n",
    "print(step)\n",
    "range(0,len(L), step)"
   ]
  },
  {
   "cell_type": "markdown",
   "metadata": {},
   "source": [
    "**todo:**\n",
    "Add phase shift calculation to the for-loop"
   ]
  },
  {
   "cell_type": "code",
   "execution_count": 309,
   "metadata": {},
   "outputs": [
    {
     "name": "stdout",
     "output_type": "stream",
     "text": [
      "[ 0.          8.10897789 16.18111081 24.09508837 32.14309646 40.06581866\n",
      " 48.03886861]\n"
     ]
    },
    {
     "data": {
      "image/png": "[encoded data removed]",
      "text/plain": [
       "<Figure size 640x480 with 1 Axes>"
      ]
     },
     "metadata": {},
     "output_type": "display_data"
    }
   ],
   "source": [
    "fig = plt.figure(facecolor=\"black\")\n",
    "ax = fig.add_subplot(111, projection='3d', facecolor = \"black\")\n",
    "plt.set_cmap('jet_r')\n",
    "L = np.array(list(UpperMeanArrays.keys()))\n",
    "step = len(L) // 7\n",
    "x = L[::step][:7]\n",
    "print(x)\n",
    "for j, l in enumerate(x):\n",
    "    arr = UpperMeanArrays[l]\n",
    "    x_ = l*np.ones(len(arr))\n",
    "    ax.plot(count, x_, arr, color = cm.jet(j*60))\n",
    "\n",
    "ax.set_xlabel(\"time (s)\")\n",
    "ax.set_ylabel(\"Length (mm)\")\n",
    "ax.tick_params(colors=\"white\")\n",
    "ax.xaxis.label.set_color(\"white\")\n",
    "ax.yaxis.label.set_color(\"white\")\n",
    "ax.zaxis.label.set_color(\"white\")\n",
    "\n"
   ]
  }
 ],
 "metadata": {
  "kernelspec": {
   "display_name": "vtkfenics",
   "language": "python",
   "name": "python3"
  },
  "language_info": {
   "codemirror_mode": {
    "name": "ipython",
    "version": 3
   },
   "file_extension": ".py",
   "mimetype": "text/x-python",
   "name": "python",
   "nbconvert_exporter": "python",
   "pygments_lexer": "ipython3",
   "version": "3.11.4"
  }
 },
 "nbformat": 4,
 "nbformat_minor": 2
}
