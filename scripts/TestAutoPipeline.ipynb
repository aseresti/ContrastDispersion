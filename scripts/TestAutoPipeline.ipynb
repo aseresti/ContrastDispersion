{
 "cells": [
  {
   "cell_type": "markdown",
   "metadata": {},
   "source": [
    "# Extracting Velocity Based on Contrast Dispersion in Grafts\n",
    "\n",
    " - Extract the graft from the peak intensity image on SimVascular:\n",
    "\n",
    "        Extract .pth of the manual annotation and .vtu of the mesh\n",
    "\n",
    " - Register the CT-MPI sequence if needed.\n",
    " - Project the Image values onto the mesh.\n",
    " - Convert pathline to vtp and project image onto the pathline.\n",
    " - Use a gradient filter and argmax to find the point of shuttle mode on the pathline.\n",
    " - Clip the lumen at the point where the shuttle mode causes inconsistency.\n",
    " - Take a cross-sectional sample every 5 mm along the lumen.\n",
    " - Extract the TAC on every point.\n",
    " - Detect the upslope. (?)\n",
    " - Interpolate each point.\n",
    " - Concatenate upper and lower parts of the lumen at the same time points.\n",
    " - Extract temporal and spatial gradient.\n",
    " - Extract the velocity.\n",
    " - Baysian Framework"
   ]
  },
  {
   "cell_type": "code",
   "execution_count": 1,
   "metadata": {},
   "outputs": [],
   "source": [
    "import vtk\n",
    "import glob as glob_module\n",
    "import os\n",
    "import numpy as np\n",
    "import matplotlib.pyplot as plt\n",
    "import xml.etree.ElementTree as ET\n",
    "from scipy.stats import linregress\n",
    "from scipy.integrate import odeint\n",
    "from scipy.interpolate import CubicSpline, interp1d\n",
    "import matplotlib.cm as cm\n",
    "from vtk.util.numpy_support import vtk_to_numpy, numpy_to_vtk\n",
    "from utilities import *\n",
    "\n",
    "plt.rcParams['font.family'] = 'Times New Roman'\n",
    "plt.rcParams['mathtext.fontset'] = 'custom'\n",
    "plt.rcParams['mathtext.rm'] = 'Times New Roman'"
   ]
  },
  {
   "cell_type": "code",
   "execution_count": 2,
   "metadata": {},
   "outputs": [],
   "source": [
    "path_ = \"/Users/ana/Documents/AnahitaSeresti/06_ContrastDispersion/3_VesselProjection/VA02B/SVG_RCA\"\n",
    "graft_name = \"SVG_RCA\"\n",
    "vtu_file_ = os.path.join(path_,f\"{graft_name}.vtu\")\n",
    "centerline_file_ = os.path.join(path_, f\"{graft_name}.pth\")\n",
    "Image_directory_ = \"/Users/ana/Documents/AnahitaSeresti/06_ContrastDispersion/1_CTPImages/VA02B/CTP\"\n",
    "Image_names = sorted(glob_module.glob(f\"{Image_directory_}/*.vtk\"))"
   ]
  },
  {
   "cell_type": "code",
   "execution_count": 3,
   "metadata": {},
   "outputs": [
    {
     "data": {
      "text/plain": [
       "['/Users/ana/Documents/AnahitaSeresti/06_ContrastDispersion/1_CTPImages/VA02B/CTP/VA02B_01.vtk',\n",
       " '/Users/ana/Documents/AnahitaSeresti/06_ContrastDispersion/1_CTPImages/VA02B/CTP/VA02B_02.vtk',\n",
       " '/Users/ana/Documents/AnahitaSeresti/06_ContrastDispersion/1_CTPImages/VA02B/CTP/VA02B_03.vtk',\n",
       " '/Users/ana/Documents/AnahitaSeresti/06_ContrastDispersion/1_CTPImages/VA02B/CTP/VA02B_04.vtk',\n",
       " '/Users/ana/Documents/AnahitaSeresti/06_ContrastDispersion/1_CTPImages/VA02B/CTP/VA02B_05.vtk',\n",
       " '/Users/ana/Documents/AnahitaSeresti/06_ContrastDispersion/1_CTPImages/VA02B/CTP/VA02B_06.vtk',\n",
       " '/Users/ana/Documents/AnahitaSeresti/06_ContrastDispersion/1_CTPImages/VA02B/CTP/VA02B_07.vtk',\n",
       " '/Users/ana/Documents/AnahitaSeresti/06_ContrastDispersion/1_CTPImages/VA02B/CTP/VA02B_08.vtk',\n",
       " '/Users/ana/Documents/AnahitaSeresti/06_ContrastDispersion/1_CTPImages/VA02B/CTP/VA02B_09.vtk',\n",
       " '/Users/ana/Documents/AnahitaSeresti/06_ContrastDispersion/1_CTPImages/VA02B/CTP/VA02B_10.vtk']"
      ]
     },
     "execution_count": 3,
     "metadata": {},
     "output_type": "execute_result"
    }
   ],
   "source": [
    "Image_names"
   ]
  },
  {
   "cell_type": "markdown",
   "metadata": {},
   "source": [
    "### Project Images to the Mesh"
   ]
  },
  {
   "cell_type": "code",
   "execution_count": 4,
   "metadata": {},
   "outputs": [],
   "source": [
    "def ProbeFilter(TargetData, SourceData):\n",
    "    ProbeFilter=vtk.vtkProbeFilter()\n",
    "    ProbeFilter.SetInputData(TargetData)\n",
    "    ProbeFilter.SetSourceData(SourceData)\n",
    "    ProbeFilter.Update()\n",
    "    \n",
    "    return ProbeFilter.GetOutput()"
   ]
  },
  {
   "cell_type": "code",
   "execution_count": 5,
   "metadata": {},
   "outputs": [
    {
     "data": {
      "text/plain": [
       "'VA02B_01'"
      ]
     },
     "execution_count": 5,
     "metadata": {},
     "output_type": "execute_result"
    }
   ],
   "source": [
    "os.path.splitext(os.path.basename(Image_names[0]))[0]"
   ]
  },
  {
   "cell_type": "code",
   "execution_count": 6,
   "metadata": {},
   "outputs": [],
   "source": [
    "Mesh = ReadVTUFile(vtu_file_)\n",
    "MeshProjections = {}\n",
    "for image_name in Image_names:\n",
    "    Image_ = ReadVTKFile(image_name)\n",
    "    mesh_projection = ProbeFilter(Mesh, Image_)\n",
    "    image_root_name = os.path.splitext(os.path.basename(image_name))[0]\n",
    "    mesh_name = f\"{graft_name}_{image_root_name}\"\n",
    "    MeshProjections[image_root_name] = mesh_projection\n",
    "    WriteVTUFile(os.path.join(path_,f\"{mesh_name}.vtu\"), mesh_projection)"
   ]
  },
  {
   "cell_type": "code",
   "execution_count": 7,
   "metadata": {},
   "outputs": [
    {
     "data": {
      "text/plain": [
       "{'VA02B_01': <vtkmodules.vtkCommonDataModel.vtkUnstructuredGrid(0x7fed3b2fdaf0) at 0x1a8dbb280>,\n",
       " 'VA02B_02': <vtkmodules.vtkCommonDataModel.vtkUnstructuredGrid(0x7fed3d0761f0) at 0x1a8dba7a0>,\n",
       " 'VA02B_03': <vtkmodules.vtkCommonDataModel.vtkUnstructuredGrid(0x7fed3d0789f0) at 0x1a8dba680>,\n",
       " 'VA02B_04': <vtkmodules.vtkCommonDataModel.vtkUnstructuredGrid(0x7fed3d074950) at 0x1a8dbac80>,\n",
       " 'VA02B_05': <vtkmodules.vtkCommonDataModel.vtkUnstructuredGrid(0x7fed3d07bcb0) at 0x1a8dba860>,\n",
       " 'VA02B_06': <vtkmodules.vtkCommonDataModel.vtkUnstructuredGrid(0x7fed3d07e5f0) at 0x1a8dba560>,\n",
       " 'VA02B_07': <vtkmodules.vtkCommonDataModel.vtkUnstructuredGrid(0x7fed3b78c640) at 0x1a8dbace0>,\n",
       " 'VA02B_08': <vtkmodules.vtkCommonDataModel.vtkUnstructuredGrid(0x7fed3d075920) at 0x1a8dba620>,\n",
       " 'VA02B_09': <vtkmodules.vtkCommonDataModel.vtkUnstructuredGrid(0x7fed3d083a00) at 0x1a8dbad40>,\n",
       " 'VA02B_10': <vtkmodules.vtkCommonDataModel.vtkUnstructuredGrid(0x7fed3d083510) at 0x1a8dba9e0>}"
      ]
     },
     "execution_count": 7,
     "metadata": {},
     "output_type": "execute_result"
    }
   ],
   "source": [
    "MeshProjections"
   ]
  },
  {
   "cell_type": "markdown",
   "metadata": {},
   "source": [
    "### Read SimVascular Pathline Annotations"
   ]
  },
  {
   "cell_type": "code",
   "execution_count": 8,
   "metadata": {},
   "outputs": [
    {
     "name": "stdout",
     "output_type": "stream",
     "text": [
      "the number of points in the centerline is: 106\n"
     ]
    }
   ],
   "source": [
    "with open(centerline_file_, \"r\") as path:\n",
    "    #path.readlines()\n",
    "    tree = ET.parse(path)\n",
    "root = tree.getroot()\n",
    "\n",
    "direction_points = []\n",
    "for direction_point in root.findall(\".//path_point/tangent\"):\n",
    "    x = float(direction_point.attrib['x'])\n",
    "    y = float(direction_point.attrib['y'])\n",
    "    z = float(direction_point.attrib['z'])\n",
    "    direction_points.append((x,y,z))\n",
    "\n",
    "position_points = []\n",
    "for path_point in root.findall(\".//path_point/pos\"):\n",
    "    x = float(path_point.attrib['x'])\n",
    "    y = float(path_point.attrib['y'])\n",
    "    z = float(path_point.attrib['z'])\n",
    "    position_points.append((x,y,z))\n",
    "\n",
    "path_normals = []\n",
    "for normal in root.findall(\".//path_point/rotation\"):\n",
    "    x = float(normal.attrib['x'])\n",
    "    y = float(normal.attrib['y'])\n",
    "    z = float(normal.attrib['z'])\n",
    "    path_normals.append((x,y,z))\n",
    "\n",
    "NPoints = len(position_points)\n",
    "print(\"the number of points in the centerline is:\", NPoints)\n",
    "\n",
    "binormal = []\n",
    "for i in range(NPoints):\n",
    "    binormal_ = np.cross(np.array(direction_points[i]),np.array(path_normals[i]))\n",
    "    binormal_ /= np.linalg.norm(binormal_)\n",
    "    binormal.append(binormal_)\n",
    "    "
   ]
  },
  {
   "cell_type": "code",
   "execution_count": 35,
   "metadata": {},
   "outputs": [
    {
     "data": {
      "text/plain": [
       "[(-32.8203125, -199.8828125, -186.5),\n",
       " (-33.02586406361689, -199.90081399889894, -186.76683690930972),\n",
       " (-33.54634219085068, -199.95244199669682, -187.46051072792912),\n",
       " (-34.23748203627601, -200.03413174504524, -188.42076609189365),\n",
       " (-34.95501875446757, -200.14231849559576, -189.48734763723883),\n",
       " (-35.5546875, -200.2734375, -190.5),\n",
       " (-35.929024991064864, -200.42317550880847, -191.34130472552238),\n",
       " (-36.11777420032128, -200.58422526816744, -192.0651909963899),\n",
       " (-36.19747966404526, -200.7485310231222, -192.76842490449621),\n",
       " (-36.24468591851283, -200.90803701871798, -193.54777254173504),\n",
       " (-36.3359375, -201.0546875, -194.5),\n",
       " (-36.52678597212366, -201.18460896586723, -195.69194418860081),\n",
       " (-36.78881100786421, -201.3106569306334, -197.07072528651133),\n",
       " (-37.07259930754293, -201.44986916246597, -198.55353429012143),\n",
       " (-37.3287375714811, -201.61928342953235, -200.05756219582102),\n",
       " (-37.5078125, -201.8359375, -201.5),\n",
       " (-37.5732061204405, -202.11026362772262, -202.8189185200744),\n",
       " (-37.53948176822188, -202.42627200929894, -204.0359078575648),\n",
       " (-37.43399810578301, -202.76136732701397, -205.19343793501804),\n",
       " (-37.28411379556276, -203.09295426315265, -206.33397867498084),\n",
       " (-37.1171875, -203.3984375, -207.5),\n",
       " (-36.95226454611433, -203.66183652324227, -208.72838173110165),\n",
       " (-36.77513691924825, -203.89363003217082, -210.03364328322945),\n",
       " (-36.56328326932501, -204.11091152947822, -211.42471396980642),\n",
       " (-36.29418224626785, -204.33077451785707, -212.9105231042556),\n",
       " (-35.9453125, -204.5703125, -214.5),\n",
       " (-35.50523569510219, -204.83926527930828, -216.195554555519),\n",
       " (-35.00684555478511, -205.11795786201782, -217.97351900951742),\n",
       " (-34.49411881691694, -205.37936155507322, -219.80370618575628),\n",
       " (-34.01103221936584, -205.59644766541908, -221.65592890799678),\n",
       " (-33.6015625, -205.7421875, -223.5),\n",
       " (-33.298667673476906, -205.7998523595246, -225.30540004682229),\n",
       " (-33.0912308616113, -205.7939135197579, -227.04028067870092),\n",
       " (-32.957116463007246, -205.75914225022888, -228.6724612871684),\n",
       " (-32.87418887626879, -205.73030982046657, -230.16976126375727),\n",
       " (-32.8203125, -205.7421875, -231.5),\n",
       " (-32.76884361099019, -205.82070028259324, -232.65484525719182),\n",
       " (-32.67510599876969, -205.95638805895055, -233.7213582756789),\n",
       " (-32.48991533105409, -206.13094444401125, -234.81044866557005),\n",
       " (-32.164087275559, -206.32606305271463, -236.03302603697412),\n",
       " (-31.6484375, -206.5234375, -237.5),\n",
       " (-30.913457882562355, -206.7110965101024, -239.28321892441036),\n",
       " (-30.008345143309956, -206.9024092444399, -241.29828621858348),\n",
       " (-29.00197221277639, -207.11707997372613, -243.42174405055138),\n",
       " (-27.96321202149521, -207.37481296867495, -245.53013458834621),\n",
       " (-26.9609375, -207.6953125, -247.5),\n",
       " (-26.046074858760417, -208.0880386769971, -249.23627904516664),\n",
       " (-25.197763427990488, -208.5214749632899, -250.75749684998718),\n",
       " (-24.37719581784036, -208.95386066108418, -252.11057513222437),\n",
       " (-23.54556463846015, -209.34343507258566, -253.34243560964106),\n",
       " (-22.6640625, -209.6484375, -254.5),\n",
       " (-21.708492682396002, -209.83987378190923, -255.619664894923),\n",
       " (-20.71310114472809, -209.93981590240048, -256.6957263814678),\n",
       " (-19.726744515862183, -209.9831023819371, -257.7119554205511),\n",
       " (-18.79827942466418, -210.00457174098247, -258.65212297308955),\n",
       " (-17.9765625, -210.0390625, -259.5),\n",
       " (-17.2949544116556, -210.10871619536596, -260.24506137514135),\n",
       " (-16.72483199309715, -210.1848864271082, -260.8995976241417),\n",
       " (-16.222076118710916, -210.22622981116746, -261.4816031855713),\n",
       " (-15.742567662883115, -210.19140296348448, -262.00907249800065),\n",
       " (-15.2421875, -210.0390625, -262.5),\n",
       " (-14.686689670981622, -209.73776143662693, -262.9680896045116),\n",
       " (-14.081320882883295, -209.29563838916673, -263.4098831219655),\n",
       " (-13.441201009294163, -208.73072837339308, -263.81763183716356),\n",
       " (-12.781449923803349, -208.06106640507963, -264.18358703490776),\n",
       " (-12.1171875, -207.3046875, -264.5),\n",
       " (-11.464536904417926, -206.48398805812639, -264.7625802068122),\n",
       " (-10.843634475369662, -205.63881001622488, -264.98086988799633),\n",
       " (-10.275619844112443, -204.81335669526024, -265.16786946577434),\n",
       " (-9.781632641903478, -204.05183141619705, -265.33657936236824),\n",
       " (-9.3828125, -203.3984375, -265.5),\n",
       " (-9.089537711346685, -202.8762863308676, -265.6695895682396),\n",
       " (-8.86914121563805, -202.4241215459337, -265.8506373260492),\n",
       " (-8.678194614256073, -201.95959484556602, -266.046890299739),\n",
       " (-8.47326950858273, -201.4003579301322, -266.2620955156192),\n",
       " (-8.2109375, -200.6640625, -266.5),\n",
       " (-7.85543725019534, -199.69524161840323, -266.7590615202294),\n",
       " (-7.401675662078135, -198.5459538000403, -267.0165808078069),\n",
       " (-6.852226698863266, -197.29513892247576, -267.24456933526966),\n",
       " (-6.209664323765594, -196.02173686327413, -267.41503857515494),\n",
       " (-5.4765625, -194.8046875, -267.5),\n",
       " (-4.654338287871964, -193.70212219551948, -267.4861643508427),\n",
       " (-3.739781136049411, -192.6889382539051, -267.41903944272326),\n",
       " (-2.7285235902908593, -191.71922446453095, -267.35883235918243),\n",
       " (-1.616198196354882, -190.74706961677123, -267.36575018376107),\n",
       " (-0.3984375, -189.7265625, -267.5),\n",
       " (0.9196654016831778, -188.6337695995189, -267.80028107639976),\n",
       " (2.2951752062757445, -187.53266818433937, -268.21926142130013),\n",
       " (3.6756960600267448, -186.5092132194004, -268.6881012280006),\n",
       " (5.008832109185149, -185.64935966964097, -269.1379606898007),\n",
       " (6.2421875, -185.0390625, -269.5),\n",
       " (7.341301681139228, -184.734674406405, -269.72871134355825),\n",
       " (8.343455310946382, -184.67413900873746, -269.8719148720762),\n",
       " (9.303864350183938, -184.7657976578674, -270.0007627288151),\n",
       " (10.277744759614318, -184.91799170466493, -270.18640705703604),\n",
       " (11.3203125, -185.0390625, -270.5),\n",
       " (12.468252873759887, -185.05565777486117, -270.9888735493673),\n",
       " (13.68412854993868, -184.96765078071087, -271.60507909039495),\n",
       " (14.91197153923755, -184.79322114912998, -272.2768478567389),\n",
       " (16.0958138523576, -184.5505485116994, -272.93241108205524),\n",
       " (17.1796875, -184.2578125, -273.5),\n",
       " (18.113811823821198, -183.93644449415032, -273.9237944589724),\n",
       " (18.873155489298846, -183.6208828684191, -274.21176876634394),\n",
       " (19.438874492865907, -183.34881774561273, -274.3878458442293),\n",
       " (19.792124830955302, -183.1579392485376, -274.4759486147431),\n",
       " (19.9140625, -183.0859375, -274.5)]"
      ]
     },
     "execution_count": 35,
     "metadata": {},
     "output_type": "execute_result"
    }
   ],
   "source": [
    "position_points"
   ]
  },
  {
   "cell_type": "markdown",
   "metadata": {},
   "source": [
    "### Interpolation of the pathline\n",
    "\n",
    "Need to interpolate the pathline to get equi-distance points.\n",
    "\n",
    "pipeline: \n",
    " - use a cubic spline with a fine resolution. (10000 points).\n",
    " - undersample it to get points every 0.5 or 1 mm. Depending on the spacing.\n",
    "\n",
    " or:\n",
    " - interpolate on x, y, and z separately."
   ]
  },
  {
   "cell_type": "code",
   "execution_count": 37,
   "metadata": {},
   "outputs": [],
   "source": [
    "cumulative_distance = [0]\n",
    "for i in range(1, NPoints):\n",
    "    dist_ = np.sqrt((position_points[i][0] - position_points[i-1][0])**2 +\n",
    "                    (position_points[i][1] - position_points[i-1][1])**2 +\n",
    "                    (position_points[i][2] - position_points[i-1][2])**2 )\n",
    "    cumulative_distance.append(dist_ + cumulative_distance[i-1])\n"
   ]
  },
  {
   "cell_type": "code",
   "execution_count": null,
   "metadata": {},
   "outputs": [],
   "source": [
    "# interpolating on x, y, and z separately\n",
    "\n",
    "spacing = 1 #mm\n",
    "\n"
   ]
  },
  {
   "cell_type": "markdown",
   "metadata": {},
   "source": [
    "### Convert Pathline to VTP"
   ]
  },
  {
   "cell_type": "code",
   "execution_count": 9,
   "metadata": {},
   "outputs": [],
   "source": [
    "def points_to_vtp(points):\n",
    "    # Create VTK points\n",
    "    vtk_points = vtk.vtkPoints()\n",
    "    for point in points:\n",
    "        vtk_points.InsertNextPoint(point)\n",
    "\n",
    "    # Create a polyline\n",
    "    polyline = vtk.vtkPolyLine()\n",
    "    polyline.GetPointIds().SetNumberOfIds(len(points))\n",
    "    for i in range(len(points)):\n",
    "        polyline.GetPointIds().SetId(i, i)\n",
    "\n",
    "    # Create a cell array to store the polyline\n",
    "    cells = vtk.vtkCellArray()\n",
    "    cells.InsertNextCell(polyline)\n",
    "\n",
    "    # Create a polydata object\n",
    "    polydata = vtk.vtkPolyData()\n",
    "    polydata.SetPoints(vtk_points)\n",
    "    polydata.SetLines(cells)\n",
    "\n",
    "    return polydata"
   ]
  },
  {
   "cell_type": "code",
   "execution_count": 10,
   "metadata": {},
   "outputs": [],
   "source": [
    "centerline_vtp = points_to_vtp(position_points)\n",
    "peak_intensity = 5\n",
    "image_ = ReadVTKFile(Image_names[peak_intensity])"
   ]
  },
  {
   "cell_type": "markdown",
   "metadata": {},
   "source": [
    "### split the vessel to the upper and lower segments\n",
    "splitting into two halves along the z-axis."
   ]
  },
  {
   "cell_type": "code",
   "execution_count": 11,
   "metadata": {},
   "outputs": [],
   "source": [
    "def gradient_filter(vtk_image):\n",
    "    gradient_filter = vtk.vtkImageGradient()\n",
    "    gradient_filter.SetInputData(vtk_image)\n",
    "    gradient_filter.SetDimensionality(3)\n",
    "    gradient_filter.Update()\n",
    "\n",
    "    return gradient_filter.GetOutput()\n",
    "    \n",
    "def define_borders(gradient_image):\n",
    "    magnitude_filter = vtk.vtkImageMagnitude()\n",
    "    magnitude_filter.SetInputData(gradient_image)\n",
    "    magnitude_filter.Update()\n",
    "    \n",
    "    return magnitude_filter.GetOutput()"
   ]
  },
  {
   "cell_type": "code",
   "execution_count": 12,
   "metadata": {},
   "outputs": [],
   "source": [
    "def clip_polydata_with_plane(polydata, origin, normal, inside_out=False):\n",
    "    plane = vtk.vtkPlane()\n",
    "    plane.SetOrigin(origin)\n",
    "    plane.SetNormal(normal)\n",
    "\n",
    "    clipper = vtk.vtkClipPolyData()\n",
    "    clipper.SetInputData(polydata)\n",
    "    clipper.SetClipFunction(plane)\n",
    "\n",
    "    if inside_out:\n",
    "        clipper.InsideOutOn()\n",
    "    else:\n",
    "        clipper.InsideOutOff()\n",
    "    \n",
    "    clipper.Update()\n",
    "\n",
    "    return clipper.GetOutput()\n",
    "\n",
    "def clip_USGrid_w_plane(USGrid, origin, normal, inside_out = False):\n",
    "    plane = vtk.vtkPlane()\n",
    "    plane.SetOrigin(origin)\n",
    "    plane.SetNormal(normal)\n",
    "\n",
    "    clipper = vtk.vtkClipDataSet()\n",
    "    clipper.SetInputData(USGrid)\n",
    "    clipper.SetClipFunction(plane)\n",
    "\n",
    "    if inside_out:\n",
    "        clipper.InsideOutOn()\n",
    "    else:\n",
    "        clipper.InsideOutOff()\n",
    "    \n",
    "    clipper.Update()\n",
    "\n",
    "    return clipper.GetOutput()"
   ]
  },
  {
   "cell_type": "code",
   "execution_count": 13,
   "metadata": {},
   "outputs": [],
   "source": [
    "x_min = image_.GetBounds()[0]\n",
    "x_max = image_.GetBounds()[1]\n",
    "\n",
    "y_min = image_.GetBounds()[2]\n",
    "y_max = image_.GetBounds()[3]\n",
    "\n",
    "z_min = image_.GetBounds()[4]\n",
    "z_max = image_.GetBounds()[5]\n",
    "\n",
    "center_point = [\n",
    "    (x_max + x_min)/2,\n",
    "    (y_max + y_min)/2,\n",
    "    (z_max + z_min)/2\n",
    "]\n",
    "z_axis = [0,0,1]"
   ]
  },
  {
   "cell_type": "code",
   "execution_count": 16,
   "metadata": {},
   "outputs": [],
   "source": [
    "UpperMesh = {}\n",
    "LowerMesh = {}\n",
    "\n",
    "for key, mesh in MeshProjections.items():\n",
    "    upper_mesh = clip_USGrid_w_plane(mesh, center_point, z_axis, True)\n",
    "    mesh_name_upper = f\"{graft_name}_{key}_upper\"\n",
    "    if upper_mesh.GetNumberOfPoints() == 0:\n",
    "        UpperMesh[key] = upper_mesh\n",
    "        WriteVTUFile(os.path.join(path_,f\"{mesh_name_upper}.vtu\"), upper_mesh)\n",
    "    \n",
    "    lower_mesh = clip_USGrid_w_plane(mesh, center_point, z_axis)\n",
    "    mesh_name_lower = f\"{graft_name}_{key}_lower\"\n",
    "    if lower_mesh.GetNumberOfPoints() == 0:\n",
    "        LowerMesh[key] = lower_mesh\n",
    "        WriteVTUFile(os.path.join(path_,f\"{mesh_name_lower}.vtu\"), lower_mesh)\n",
    "\n",
    "\n",
    "centerline_upper = clip_polydata_with_plane(centerline_vtp, center_point, z_axis, True)\n",
    "centerline_lower = clip_polydata_with_plane(centerline_vtp, center_point, z_axis)"
   ]
  },
  {
   "cell_type": "markdown",
   "metadata": {},
   "source": [
    "### Cutting the Lumen Every 3 mm"
   ]
  },
  {
   "cell_type": "code",
   "execution_count": 18,
   "metadata": {},
   "outputs": [
    {
     "name": "stdout",
     "output_type": "stream",
     "text": [
      "[0, 1, 4, 7, 10, 17, 19, 24, 27, 30, 32, 34, 36, 39, 42, 46, 48, 50, 52, 54, 57, 61, 64, 67, 70, 71, 75, 82, 84, 89, 92, 95, 97, 99, 102]\n",
      "[1, 3, 3, 3, 7, 2, 5, 3, 3, 2, 2, 2, 3, 3, 4, 2, 2, 2, 2, 3, 4, 3, 3, 3, 1, 4, 7, 2, 5, 3, 3, 2, 2, 3]\n",
      "[0, 4, 7, 10, 17, 19, 24, 27, 30, 32, 34, 36, 39, 42, 46, 48, 50, 52, 54, 57, 61, 64, 67, 70, 75, 82, 84, 89, 92, 95, 97, 99, 102]\n"
     ]
    }
   ],
   "source": [
    "remainder  = np.array([int(i)%3 for i in cumulative_distance])\n",
    "indeces = np.where(remainder == 0)\n",
    "indeces = list(indeces[0])\n",
    "print(indeces)\n",
    "indeces_ = [indeces[i] - indeces[i-1] for i in range(1, len(indeces))]\n",
    "print(indeces_)\n",
    "indeces_1 = [0]\n",
    "indeces_1.extend(indeces_)\n",
    "indeces_1 = indeces_1\n",
    "\n",
    "indeces_2 = [indeces[i] for i in range(len(indeces_1)) if indeces_1[i] != 1]\n",
    "print(indeces_2)"
   ]
  },
  {
   "cell_type": "code",
   "execution_count": 20,
   "metadata": {},
   "outputs": [],
   "source": [
    "def SequentialCut(PointsArray, interval=3):\n",
    "    \"\"\"Finds the location of the cut along the centerline of the lumen.\n",
    "\n",
    "    Args:\n",
    "        PointsArray (list): a list of the position of the points along the centerline of the vessel.\n",
    "        interval (int, optional): To perform the clipping. Distance between the cross sections. Defaults to 3.\n",
    "    \"\"\"\n",
    "    NPoints = len(PointsArray)\n",
    "    cumulative_distance = [0]\n",
    "    for i in range(1, NPoints):\n",
    "        dist_ = np.sqrt((PointsArray[i][0] - PointsArray[i-1][0])**2 +\n",
    "                        (PointsArray[i][1] - PointsArray[i-1][1])**2 +\n",
    "                        (PointsArray[i][2] - PointsArray[i-1][2])**2 )\n",
    "        cumulative_distance.append(dist_ + cumulative_distance[i-1])\n",
    "\n",
    "    remainder  = np.array([int(i)%interval for i in cumulative_distance])\n",
    "    indeces = np.where(remainder == 0)\n",
    "    indeces = list(indeces[0])\n",
    "    indeces_ = [indeces[i] - indeces[i-1] for i in range(1, len(indeces))]\n",
    "    indeces_1 = [0]\n",
    "    indeces_1.extend(indeces_)\n",
    "    indeces_1 = indeces_1\n",
    "\n",
    "    indeces_2 = [indeces[i] for i in range(len(indeces_1)) if indeces_1[i] != 1]\n",
    "    #indeces_2[0] = 2\n",
    "\n",
    "    return indeces_2    "
   ]
  },
  {
   "cell_type": "code",
   "execution_count": 21,
   "metadata": {},
   "outputs": [],
   "source": [
    "def slice_w_plane(Volume,Origin,Norm):\n",
    "    plane=vtk.vtkPlane()\n",
    "    plane.SetOrigin(Origin)\n",
    "    plane.SetNormal(Norm)\n",
    "    Slice=vtk.vtkCutter()\n",
    "    Slice.GenerateTrianglesOff()\n",
    "    Slice.SetCutFunction(plane)\n",
    "    Slice.SetInputData(Volume)\n",
    "    Slice.Update()\n",
    "    return Slice.GetOutput()"
   ]
  },
  {
   "cell_type": "code",
   "execution_count": 22,
   "metadata": {},
   "outputs": [],
   "source": [
    "def SphereClip(volume_image,center,radius):\n",
    "    sphere = vtk.vtkSphere()\n",
    "    sphere.SetCenter(center)\n",
    "    sphere.SetRadius(radius)\n",
    "\n",
    "    clipper = vtk.vtkClipDataSet()\n",
    "    clipper.SetInputData(volume_image)\n",
    "    clipper.SetClipFunction(sphere)\n",
    "    clipper.InsideOutOn()\n",
    "    clipper.GetOutputInformation(1)\n",
    "    clipper.Update()\n",
    "\n",
    "    return clipper.GetOutput()"
   ]
  },
  {
   "cell_type": "code",
   "execution_count": 23,
   "metadata": {},
   "outputs": [],
   "source": [
    "def GetSurfaceArea(polydata):\n",
    "    properties = vtk.vtkMassProperties()\n",
    "    properties.AddInputData(polydata)\n",
    "    properties.Update()\n",
    "    return properties.GetSurfaceArea()"
   ]
  },
  {
   "cell_type": "code",
   "execution_count": 28,
   "metadata": {},
   "outputs": [],
   "source": [
    "CrossSections = vtk.vtkAppendPolyData()\n",
    "Area_ = [] \n",
    "for idx in range(len(position_points)):\n",
    "    cross_section_ = slice_w_plane(MeshProjections['VA02B_06'], position_points[idx], direction_points[idx])\n",
    "    area_ = GetSurfaceArea(cross_section_)\n",
    "    Area_.append(area_)\n",
    "    radius = np.sqrt(area_/np.pi)\n",
    "    inner_section_ = SphereClip(cross_section_, GetCentroid(cross_section_), radius*0.75)\n",
    "    CrossSections.AddInputData(ExtractSurface(inner_section_))\n",
    "CrossSections.Update()\n",
    "Area = np.mean(np.array(Area_))\n",
    "WriteVTPFile(os.path.join(path_, \"CrossSections.vtp\"), CrossSections.GetOutput())"
   ]
  },
  {
   "cell_type": "markdown",
   "metadata": {},
   "source": [
    "### Extracting cross sections from upper and lower parts of the lumen"
   ]
  },
  {
   "cell_type": "markdown",
   "metadata": {},
   "source": [
    "#### Detecting which half is leading"
   ]
  },
  {
   "cell_type": "code",
   "execution_count": 29,
   "metadata": {},
   "outputs": [
    {
     "name": "stdout",
     "output_type": "stream",
     "text": [
      "scalars\n"
     ]
    }
   ],
   "source": [
    "ScalarArrayName = image_.GetPointData().GetArrayName(0)\n",
    "print(ScalarArrayName)"
   ]
  },
  {
   "cell_type": "code",
   "execution_count": 31,
   "metadata": {},
   "outputs": [
    {
     "data": {
      "image/png": "[encoded data removed]",
      "text/plain": [
       "<Figure size 640x480 with 1 Axes>"
      ]
     },
     "metadata": {},
     "output_type": "display_data"
    },
    {
     "name": "stdout",
     "output_type": "stream",
     "text": [
      "The upper half lags the lower half.\n"
     ]
    }
   ],
   "source": [
    "leading = False #if True upper half is leading\n",
    "upper_mean_ = []\n",
    "lower_mean_ = []\n",
    "for name in Image_names:\n",
    "    Image_ = ReadVTKFile(name)\n",
    "    centerline_ = ProbeFilter(centerline_vtp, Image_)\n",
    "    WriteVTPFile(os.path.join(path_, \"test_centerline.vtp\"), centerline_)\n",
    "    centerline_upper_ = clip_polydata_with_plane(centerline_, center_point, z_axis, True)\n",
    "    WriteVTPFile(os.path.join(path_, \"test_centerline_upper.vtp\"), centerline_upper_)\n",
    "    centerline_lower_ = clip_polydata_with_plane(centerline_, center_point, z_axis)\n",
    "    WriteVTPFile(os.path.join(path_, \"test_centerline_lower.vtp\"), centerline_lower_)\n",
    "    for i in range(Image_.GetPointData().GetNumberOfArrays()):\n",
    "        arrayname_ = Image_.GetPointData().GetArrayName(i)\n",
    "        if \"scalar\" in arrayname_.lower():\n",
    "            ScalarArrayName = arrayname_\n",
    "    upper_mean_.append(np.mean(vtk_to_numpy(centerline_upper_.GetPointData().GetArray(ScalarArrayName))))\n",
    "    lower_mean_.append(np.mean(vtk_to_numpy(centerline_lower_.GetPointData().GetArray(ScalarArrayName))))\n",
    "\n",
    "count = [i for i in range(len(Image_names))]\n",
    "plt.figure()\n",
    "plt.plot(count, upper_mean_, label = \"Upper Mean\")\n",
    "plt.plot(count, lower_mean_, label = \"Lower Mean\")\n",
    "plt.legend()\n",
    "plt.show()\n",
    "\n",
    "max_lower_idx = np.where(np.array(lower_mean_) == max(lower_mean_))\n",
    "max_upper_idx = np.where(np.array(upper_mean_) == max(upper_mean_))\n",
    "if max_lower_idx > max_upper_idx:\n",
    "    leading = True\n",
    "    print(\"The upper half leads the lower half.\")\n",
    "else:\n",
    "    leading = False\n",
    "    print(\"The upper half lags the lower half.\")\n",
    "\n"
   ]
  },
  {
   "cell_type": "markdown",
   "metadata": {},
   "source": [
    "#### Extract the cross sections along the upper part of the lumen"
   ]
  },
  {
   "cell_type": "code",
   "execution_count": 32,
   "metadata": {},
   "outputs": [],
   "source": [
    "def GetPoints(polydata):\n",
    "    \"\"\"Converts the polydata into a list of points.\n",
    "    \"\"\"\n",
    "    NPoints = polydata.GetNumberOfPoints()\n",
    "    points = []\n",
    "    for i in range(NPoints):\n",
    "        points.append(polydata.GetPoint(i))\n",
    "\n",
    "    return points"
   ]
  },
  {
   "cell_type": "markdown",
   "metadata": {},
   "source": [
    "todo: \n",
    "\n",
    "~~add another loop that loops over the Upper/Lower meshes.~~\n",
    "\n",
    "~~create an array of means of each cross section over time.~~\n",
    "\n",
    "~~interpolate the array (piecewise interpolation).~~\n",
    "\n",
    "~~remove the first and last elements of each array based on upper half leading or lagging.~~\n",
    "\n",
    "~~concatenate the arrays.~~"
   ]
  },
  {
   "cell_type": "markdown",
   "metadata": {},
   "source": [
    "The following two cells are for test purposes only."
   ]
  },
  {
   "cell_type": "code",
   "execution_count": 34,
   "metadata": {},
   "outputs": [
    {
     "ename": "IndexError",
     "evalue": "list index out of range",
     "output_type": "error",
     "traceback": [
      "\u001b[0;31m---------------------------------------------------------------------------\u001b[0m",
      "\u001b[0;31mIndexError\u001b[0m                                Traceback (most recent call last)",
      "Cell \u001b[0;32mIn[34], line 5\u001b[0m\n\u001b[1;32m      3\u001b[0m CrossSections_u \u001b[38;5;241m=\u001b[39m vtk\u001b[38;5;241m.\u001b[39mvtkAppendPolyData()\n\u001b[1;32m      4\u001b[0m \u001b[38;5;28;01mfor\u001b[39;00m idx \u001b[38;5;129;01min\u001b[39;00m \u001b[38;5;28mrange\u001b[39m(\u001b[38;5;28mlen\u001b[39m(centerline_upper_points)):\n\u001b[0;32m----> 5\u001b[0m     cross_section_ \u001b[38;5;241m=\u001b[39m slice_w_plane(UpperMesh[\u001b[38;5;28mlist\u001b[39m(UpperMesh\u001b[38;5;241m.\u001b[39mkeys())[peak_intensity]], position_points[idx], direction_points[idx])\n\u001b[1;32m      6\u001b[0m     radius \u001b[38;5;241m=\u001b[39m np\u001b[38;5;241m.\u001b[39msqrt(GetSurfaceArea(cross_section_)\u001b[38;5;241m/\u001b[39mnp\u001b[38;5;241m.\u001b[39mpi)\n\u001b[1;32m      7\u001b[0m     inner_section_ \u001b[38;5;241m=\u001b[39m SphereClip(cross_section_, GetCentroid(cross_section_), radius\u001b[38;5;241m*\u001b[39m\u001b[38;5;241m0.75\u001b[39m)\n",
      "\u001b[0;31mIndexError\u001b[0m: list index out of range"
     ]
    }
   ],
   "source": [
    "centerline_upper_points = GetPoints(centerline_upper)\n",
    "indeces_u = SequentialCut(centerline_upper_points, 2)\n",
    "CrossSections_u = vtk.vtkAppendPolyData()\n",
    "for idx in range(len(centerline_upper_points)):\n",
    "    cross_section_ = slice_w_plane(UpperMesh[list(UpperMesh.keys())[peak_intensity]], position_points[idx], direction_points[idx])\n",
    "    radius = np.sqrt(GetSurfaceArea(cross_section_)/np.pi)\n",
    "    inner_section_ = SphereClip(cross_section_, GetCentroid(cross_section_), radius*0.75)\n",
    "    CrossSections_u.AddInputData(ExtractSurface(inner_section_))\n",
    "CrossSections_u.Update()\n",
    "WriteVTPFile(os.path.join(path_, \"CrossSections_Upper.vtp\"), CrossSections_u.GetOutput())"
   ]
  },
  {
   "cell_type": "code",
   "execution_count": null,
   "metadata": {},
   "outputs": [],
   "source": [
    "centerline_lower_points = GetPoints(centerline_lower)\n",
    "indeces_l = SequentialCut(centerline_lower_points, 2)\n",
    "CrossSections_l = vtk.vtkAppendPolyData()\n",
    "for idx in indeces_l:\n",
    "    cross_section_ = slice_w_plane(LowerMesh[list(UpperMesh.keys())[peak_intensity]], position_points[len(centerline_upper_points) + idx], direction_points[len(centerline_upper_points) + idx])\n",
    "    radius = np.sqrt(GetSurfaceArea(cross_section_)/np.pi)\n",
    "    inner_section_ = SphereClip(cross_section_, GetCentroid(cross_section_), radius*0.75)\n",
    "    CrossSections_l.AddInputData(ExtractSurface(inner_section_))\n",
    "CrossSections_l.Update()\n",
    "WriteVTPFile(os.path.join(path_, \"CrossSections_Lower.vtp\"), CrossSections_l.GetOutput())"
   ]
  },
  {
   "cell_type": "markdown",
   "metadata": {},
   "source": [
    "#### Looping over all of the meshes and extracting a mean array"
   ]
  },
  {
   "cell_type": "code",
   "execution_count": null,
   "metadata": {},
   "outputs": [],
   "source": [
    "centerline_upper_points = GetPoints(centerline_upper)\n",
    "indeces_u = SequentialCut(centerline_upper_points, 2)\n",
    "\n",
    "UpperMeanArrays = {}\n",
    "for idx in indeces_u:\n",
    "    cross_section_mean_array = []\n",
    "    for key, mesh in UpperMesh.items():\n",
    "        cross_section_ = slice_w_plane(mesh, position_points[idx], direction_points[idx])\n",
    "        radius = np.sqrt(GetSurfaceArea(cross_section_)/np.pi)\n",
    "        inner_section_ = SphereClip(cross_section_, GetCentroid(cross_section_), radius*0.75)\n",
    "        for i in range(inner_section_.GetPointData().GetNumberOfArrays()):\n",
    "            arrayname_ = inner_section_.GetPointData().GetArrayName(i)\n",
    "            if \"scalar\" in arrayname_.lower():\n",
    "                ScalarArrayName = arrayname_\n",
    "        cross_section_mean_array.append(np.mean(vtk_to_numpy(inner_section_.GetPointData().GetArray(ScalarArrayName))))\n",
    "    \n",
    "    # add interpolation— then remove the element based on leading/lagging and store it in the dict\n",
    "    tac = np.empty(2*len(cross_section_mean_array) - 1)\n",
    "    for i in range(len(cross_section_mean_array) - 1):\n",
    "        tac[2*i] = cross_section_mean_array[i]\n",
    "        tac[2*i+1] = (cross_section_mean_array[i] + cross_section_mean_array[i+1])/2\n",
    "    \n",
    "    tac[-1] = cross_section_mean_array[-1]\n",
    "\n",
    "    UpperMeanArrays[cumulative_distance[idx]] = tac\n"
   ]
  },
  {
   "cell_type": "code",
   "execution_count": null,
   "metadata": {},
   "outputs": [],
   "source": [
    "count = [i for i in range(len(tac) - 1)]\n",
    "plt.figure()\n",
    "plt.scatter(count, UpperMeanArrays[list(UpperMeanArrays.keys())[-1]],marker = 'o', s = 100, label = \"Interpolation Results\")\n",
    "count = [i for i in range(len(tac)) if i%2 == 0]\n",
    "plt.scatter(count, cross_section_mean_array, marker = 'D', s = 30, label = \"Actual Data\")\n",
    "plt.legend(loc= \"upper left\")\n",
    "plt.show()"
   ]
  },
  {
   "cell_type": "code",
   "execution_count": null,
   "metadata": {},
   "outputs": [],
   "source": [
    "centerline_lower_points = GetPoints(centerline_lower)\n",
    "indeces_l = SequentialCut(centerline_lower_points, 2)\n",
    "\n",
    "LowerMeanArrays = {}\n",
    "for idx in indeces_l:\n",
    "    cross_section_mean_array = []\n",
    "    for key, mesh in LowerMesh.items():\n",
    "        cross_section_ = slice_w_plane(mesh, position_points[len(centerline_upper_points) + idx], direction_points[len(centerline_upper_points) + idx])\n",
    "        radius = np.sqrt(GetSurfaceArea(cross_section_)/np.pi)\n",
    "        inner_section_ = SphereClip(cross_section_, GetCentroid(cross_section_), radius*0.75)\n",
    "        for i in range(inner_section_.GetPointData().GetNumberOfArrays()):\n",
    "            arrayname_ = inner_section_.GetPointData().GetArrayName(i)\n",
    "            if \"scalar\" in arrayname_.lower():\n",
    "                ScalarArrayName = arrayname_\n",
    "        cross_section_mean_array.append(np.mean(vtk_to_numpy(inner_section_.GetPointData().GetArray(ScalarArrayName))))\n",
    "    \n",
    "    # add interpolation— then remove the element based on leading/lagging and store it in the dict\n",
    "    print(len(cross_section_mean_array))\n",
    "    tac = np.empty(2*len(cross_section_mean_array) - 1)\n",
    "    for i in range(len(cross_section_mean_array) - 1):\n",
    "        tac[2*i] = cross_section_mean_array[i]\n",
    "        tac[2*i+1] = (cross_section_mean_array[i] + cross_section_mean_array[i+1])/2\n",
    "    \n",
    "    tac[-1] = cross_section_mean_array[-1]\n",
    "    print(len(tac))\n",
    "\n",
    "    LowerMeanArrays[cumulative_distance[len(centerline_upper_points) + idx]] = tac"
   ]
  },
  {
   "cell_type": "markdown",
   "metadata": {},
   "source": [
    "**Is there any algorithm for UPSLOPE DETECTION?**"
   ]
  },
  {
   "cell_type": "code",
   "execution_count": null,
   "metadata": {},
   "outputs": [],
   "source": [
    "print(len(LowerMesh.keys()))\n",
    "print(len(LowerMeanArrays[list(LowerMeanArrays.keys())[0]]))\n",
    "print(len(indeces_u), len(indeces_l))\n",
    "print(len(UpperMeanArrays), len(LowerMeanArrays))\n",
    "\n",
    "print(indeces_u)\n",
    "print(indeces_l)\n",
    "keys = [cumulative_distance[len(centerline_upper_points) + idx] for idx in indeces_l]\n",
    "print(keys, len(set(keys)), len(keys))"
   ]
  },
  {
   "cell_type": "code",
   "execution_count": null,
   "metadata": {},
   "outputs": [],
   "source": [
    "sample_time = 11 # the time point when the spatial attenuation is extracted.\n",
    "\n",
    "SpatialArray = []\n",
    "SamplingLocation = list(UpperMeanArrays.keys()) + list(LowerMeanArrays.keys())\n",
    "for key, array in UpperMeanArrays.items():\n",
    "    SpatialArray.append(array[sample_time])\n",
    "for key, array in LowerMeanArrays.items():\n",
    "    SpatialArray.append(array[sample_time - 1 ])\n",
    "\n",
    "\n",
    "plt.figure()\n",
    "plt.scatter(SamplingLocation, SpatialArray, marker = 'o', s = 100, label = \"Centerline Attenuation\")\n",
    "x_fit = np.linspace(min(SamplingLocation), max(SamplingLocation), 100).reshape(-1,1)\n",
    "slope_s, intercept, _, _, _ = linregress(SamplingLocation, SpatialArray)\n",
    "y_fit = slope_s * x_fit + intercept\n",
    "plt.plot(x_fit, y_fit, 'r-', linewidth=2, label= f\"Trend Line, slope ={int(slope_s*100)/100}\")\n",
    "plt.ylim([300, 800])\n",
    "plt.xlabel(\"Distance from the inlet (mm)\", size = 16)\n",
    "plt.ylabel(\"Attenuation (HU)\", size = 16)\n",
    "plt.legend()\n",
    "plt.show()"
   ]
  },
  {
   "cell_type": "code",
   "execution_count": null,
   "metadata": {},
   "outputs": [],
   "source": [
    "upslope_begins = 8\n",
    "upslope_ends = 13\n",
    "\n",
    "heart_rate = 75 #beats per minutes\n",
    "beat_duration = 60/heart_rate\n",
    "\n",
    "array = UpperMeanArrays[list(UpperMeanArrays.keys())[0]]\n",
    "\n",
    "Upslope = array[upslope_begins:upslope_ends]\n",
    "count = [i * beat_duration for i in range(len(array))]\n",
    "count_upslope = [i * beat_duration for i in range(upslope_begins, upslope_ends)]\n",
    "\n",
    "plt.figure()\n",
    "plt.scatter(count, array, marker = 'o', s = 100, label = \"Centerline Attenuation\")\n",
    "t_fit = np.linspace(min(count_upslope), max(count_upslope), 100).reshape(-1,1)\n",
    "slope_t, intercept, _, _, _ = linregress(count_upslope, Upslope)\n",
    "y_fit_t = slope_t * t_fit + intercept\n",
    "plt.plot(t_fit, y_fit_t, 'r-', linewidth=2, label= f\"Trend Line, slope ={int(slope_t*100)/100}\")\n",
    "plt.xlabel(\"time (s)\", size = 16)\n",
    "plt.ylabel(\"Attenuation (HU)\", size = 16)\n",
    "plt.legend(loc = 'upper left')\n",
    "plt.show()"
   ]
  },
  {
   "cell_type": "code",
   "execution_count": null,
   "metadata": {},
   "outputs": [],
   "source": [
    "velocity = abs(slope_t/slope_s)\n",
    "flow_rate = velocity*Area/1000*60\n",
    "\n",
    "print(velocity/10, \"cm/s\")\n",
    "print(Area, \"mm^2\")\n",
    "print(flow_rate, \"mL/min\")"
   ]
  },
  {
   "cell_type": "markdown",
   "metadata": {},
   "source": [
    "todo:\n",
    "\n",
    " ~~- Verify the interpolation and concatenation~~\n",
    "\n",
    " ~~- IMPLEMENT the BAYSIAN FRAMEWORK~~: **Theoretical work is done: implementation**"
   ]
  },
  {
   "cell_type": "markdown",
   "metadata": {},
   "source": [
    "## Velocity Estimation Using Adaptive Filtering of the Advection Diffusion Equation"
   ]
  },
  {
   "cell_type": "markdown",
   "metadata": {},
   "source": [
    "The combination of the adaptive filters and modelling:\n",
    " 1) Baysian theorem: we assume that the system noise is a Guassian noise.\n",
    "    \n",
    "    $$ noise \\ \\alpha \\ e^(\\frac{m^2}{\\sigma^2}) $$\n",
    "\n",
    "    where $m$ is the mean and $\\sigma$ is the standard diviation.\n",
    "\n",
    "    $$ m = \\sum \\sqrt(C_{measured}^2 - C_{model}^2) $$\n",
    "\n",
    "    where C is the contrast dispersion measured from the vessel or modeled by the Advection-Dissusion equation. In this context m is the Mean Squared Error ($MSE$).\n",
    "    From a Baysian perspective, the velocity with maximum probability is what maximizes the likelihood of our observation. So, the velocity that is most probable is the velocity that minimizes $MSE$.\n",
    "\n",
    " 2) Steps to implement the concept of adaptive filter on the velocity estimation:\n",
    "\n",
    "   - Estimate velocity from inverse advection diffusion:\n",
    "\n",
    "   $$ v_0 \\ = \\ -\\frac{\\frac{\\partial C}{\\partial t}}{\\frac{\\partial C}{\\partial x}} $$\n",
    "\n",
    "   - Solve ODE assuming that $\\frac{\\partial C}{\\partial t}$ is constant:\n",
    "\n",
    "   $$ D\\frac{\\partial^2 C_n}{\\partial x^2} - v_n \\frac{\\partial C_n}{\\partial x} - Slope_t $$\n",
    "\n",
    "   - Find $MSE$.\n",
    "\n",
    "   - Update velocity:\n",
    "\n",
    "   $$ v_{n+1} = v_n + \\mu.E.\\frac{\\partial C}{\\partial x} $$\n",
    "\n",
    "   - Repeat until convergance.\n"
   ]
  },
  {
   "cell_type": "markdown",
   "metadata": {},
   "source": [
    "step 1: ODE solver\n",
    "\n",
    "$$ D \\ddot C - v \\dot C - slope_t = 0 $$\n",
    "$$ z = \\dot C $$\n",
    "$$ D \\dot z - vz - slope_t = 0 $$"
   ]
  },
  {
   "cell_type": "code",
   "execution_count": null,
   "metadata": {},
   "outputs": [],
   "source": [
    "def dSdx(t, S, v, slope_t):\n",
    "    z, C = S\n",
    "    return [C, (v*z + slope_t)/0.04] # D = 0.04\n",
    "\n",
    "\n",
    "S_0 = [slope_s, y_fit[0][0]]"
   ]
  },
  {
   "cell_type": "code",
   "execution_count": null,
   "metadata": {},
   "outputs": [],
   "source": [
    "print(slope_s)\n",
    "print(y_fit[0][0])"
   ]
  },
  {
   "cell_type": "code",
   "execution_count": null,
   "metadata": {},
   "outputs": [],
   "source": [
    "x_fit.T[0]"
   ]
  },
  {
   "cell_type": "code",
   "execution_count": null,
   "metadata": {},
   "outputs": [],
   "source": [
    "sol = odeint(dSdx, y0=S_0, t=x_fit.T[0], tfirst=True, args = (velocity, slope_t))"
   ]
  },
  {
   "cell_type": "code",
   "execution_count": null,
   "metadata": {},
   "outputs": [],
   "source": [
    "C_sol = sol.T[1]\n",
    "C_sol"
   ]
  },
  {
   "cell_type": "markdown",
   "metadata": {},
   "source": [
    "The values are way off so the best way is to solve for C analytically."
   ]
  },
  {
   "cell_type": "markdown",
   "metadata": {},
   "source": [
    "Let's assume diffusion force is zero for simplicity. Then, the problem changes into solving the following PDE for $C(t,x)$:\n",
    "\n",
    "$$ \\frac{\\partial C}{\\partial t} = -v \\frac{\\partial C}{\\partial x} $$"
   ]
  },
  {
   "cell_type": "markdown",
   "metadata": {},
   "source": [
    "**todo:**\n",
    "Implement a Fenics pipeline here to solve for the above PDE. OR solve teh pde with FFT.\n"
   ]
  },
  {
   "cell_type": "markdown",
   "metadata": {},
   "source": [
    "# Waterfall plot of the TAC along the vessel"
   ]
  },
  {
   "cell_type": "code",
   "execution_count": null,
   "metadata": {},
   "outputs": [],
   "source": [
    "print(len(np.array(count)))\n",
    "print(len(UpperMeanArrays[0]))\n"
   ]
  },
  {
   "cell_type": "code",
   "execution_count": null,
   "metadata": {},
   "outputs": [],
   "source": [
    "L = np.array(list(UpperMeanArrays.keys()))"
   ]
  },
  {
   "cell_type": "markdown",
   "metadata": {},
   "source": [
    "**todo:**\n",
    "Add phase shift calculation to the for-loop"
   ]
  },
  {
   "cell_type": "code",
   "execution_count": null,
   "metadata": {},
   "outputs": [],
   "source": [
    "UpperMeanArrays2 = {}\n",
    "array = UpperMeanArrays[0]\n",
    "count = [i * beat_duration for i in range(len(array)+1)]\n",
    "time = np.linspace(min(count), max(count), 100)\n",
    "for key, arr in UpperMeanArrays.items():\n",
    "    arr_zero_pad = np.zeros((arr.shape[0] + 1,))\n",
    "    if leading:\n",
    "        arr_zero_pad[1:] = arr\n",
    "    else:\n",
    "        arr_zero_pad[:-1] = arr\n",
    "    cs = CubicSpline(count, arr_zero_pad)\n",
    "    UpperMeanArrays2[key] = cs(time)\n",
    "\n",
    "LowerMeanArrays2 = {}\n",
    "for key, arr in LowerMeanArrays.items():\n",
    "    arr_zero_pad = np.zeros((arr.shape[0] + 1,))\n",
    "    if leading:\n",
    "        arr_zero_pad[:-1] = arr\n",
    "    else:\n",
    "        arr_zero_pad[1:] = arr\n",
    "    cs = CubicSpline(count, arr_zero_pad)\n",
    "    LowerMeanArrays2[key] = cs(time)"
   ]
  },
  {
   "cell_type": "code",
   "execution_count": null,
   "metadata": {},
   "outputs": [],
   "source": [
    "fig = plt.figure(facecolor=\"black\")\n",
    "ax = fig.add_subplot(111, projection='3d', facecolor = \"black\")\n",
    "plt.set_cmap('jet_r')\n",
    "L = np.array(list(UpperMeanArrays.keys()))\n",
    "step = len(L) // 7\n",
    "x = L[::step][:7]\n",
    "for j, l in enumerate(x):\n",
    "    arr = UpperMeanArrays2[l]\n",
    "    x_ = l*np.ones(len(arr))\n",
    "    ax.plot(time, x_, arr, color = cm.jet(j*30))\n",
    "\n",
    "L2 = np.array(list(LowerMeanArrays.keys()))\n",
    "step = len(L2) // 3\n",
    "x = L2[::step][:3]\n",
    "for j, l in enumerate(x):\n",
    "    arr = LowerMeanArrays2[l]\n",
    "    x_ = l*np.ones(len(arr))\n",
    "    ax.plot(time, x_, arr, color = cm.jet((j+7)*30))\n",
    "\n",
    "ax.set_xlabel(\"time (s)\")\n",
    "ax.set_ylabel(\"Length (mm)\")\n",
    "ax.tick_params(colors=\"white\")\n",
    "ax.xaxis.label.set_color(\"white\")\n",
    "ax.yaxis.label.set_color(\"white\")\n",
    "ax.zaxis.label.set_color(\"white\")\n",
    "\n"
   ]
  },
  {
   "cell_type": "code",
   "execution_count": null,
   "metadata": {},
   "outputs": [],
   "source": [
    "C1 = np.stack([arr for _, arr in UpperMeanArrays2.items()])\n",
    "C2 = np.stack([arr for _, arr in LowerMeanArrays2.items()])\n",
    "print(C1.shape)\n",
    "print(C2.shape)\n",
    "C = np.vstack([C1, C2])"
   ]
  },
  {
   "cell_type": "code",
   "execution_count": null,
   "metadata": {},
   "outputs": [],
   "source": [
    "plt.figure()\n",
    "plt.imshow(np.flipud(C), aspect=\"auto\", extent=[time.min(), time.max(), L.min(), L2.max()], cmap='jet')\n",
    "plt.xlabel(\"time (s)\")\n",
    "plt.ylabel(\"Length (mm)\")\n",
    "plt.colorbar(label=\"Intensity (HU)\")\n",
    "plt.show()"
   ]
  },
  {
   "cell_type": "code",
   "execution_count": null,
   "metadata": {},
   "outputs": [],
   "source": [
    "decay_idx = 14 #14 was selected manually and is the time were the decay starts\n",
    "UpperMeanArrays2 = {}\n",
    "array = UpperMeanArrays[0][decay_idx:] \n",
    "print(array.shape)\n",
    "count = [i * beat_duration for i in range(len(array))]\n",
    "time = np.linspace(min(count), max(count), 100)\n",
    "for key, arr in UpperMeanArrays.items():\n",
    "    arr_ = arr[decay_idx:]\n",
    "    cs = CubicSpline(count, arr_)\n",
    "    UpperMeanArrays2[key] = cs(time)\n",
    "\n",
    "LowerMeanArrays2 = {}\n",
    "for key, arr in LowerMeanArrays.items():\n",
    "    arr_zero_pad = np.zeros((arr.shape[0] + 1,))\n",
    "    arr_ = arr[decay_idx-1:-1]\n",
    "    cs = CubicSpline(count, arr_)\n",
    "    LowerMeanArrays2[key] = cs(time)"
   ]
  },
  {
   "cell_type": "code",
   "execution_count": null,
   "metadata": {},
   "outputs": [],
   "source": [
    "fig = plt.figure(facecolor=\"black\")\n",
    "ax = fig.add_subplot(111, projection='3d', facecolor = \"black\")\n",
    "plt.set_cmap('jet_r')\n",
    "L = np.array(list(UpperMeanArrays.keys()))\n",
    "step = len(L) // 7\n",
    "x = L[::step][:7]\n",
    "for j, l in enumerate(x):\n",
    "    arr = UpperMeanArrays2[l]\n",
    "    x_ = l*np.ones(len(arr))\n",
    "    ax.plot(time, x_, arr, color = cm.jet(j*30))\n",
    "\n",
    "L2 = np.array(list(LowerMeanArrays.keys()))\n",
    "step = len(L2) // 3\n",
    "x = L2[::step][:3]\n",
    "for j, l in enumerate(x):\n",
    "    arr = LowerMeanArrays2[l]\n",
    "    x_ = l*np.ones(len(arr))\n",
    "    ax.plot(time, x_, arr, color = cm.jet((j+7)*30))\n",
    "\n",
    "ax.set_xlabel(\"time (s)\")\n",
    "ax.set_ylabel(\"Length (mm)\")\n",
    "ax.set_zlabel(\"Intensity (HU)\")\n",
    "ax.tick_params(colors=\"white\")\n",
    "ax.xaxis.label.set_color(\"white\")\n",
    "ax.yaxis.label.set_color(\"white\")\n",
    "ax.zaxis.label.set_color(\"white\")"
   ]
  },
  {
   "cell_type": "code",
   "execution_count": null,
   "metadata": {},
   "outputs": [],
   "source": [
    "C1 = np.stack([arr for _, arr in UpperMeanArrays2.items()])\n",
    "C2 = np.stack([arr for _, arr in LowerMeanArrays2.items()])\n",
    "print(C1.shape)\n",
    "print(C2.shape)\n",
    "C = np.vstack([C1, C2])\n",
    "\n",
    "\n",
    "n_old, _ = C.shape\n",
    "x_old = np.linspace(L.min(), L2.max(), n_old)\n",
    "x_new = np.linspace(L.min(), L2.max(), 100)\n",
    "\n",
    "\n",
    "f = interp1d(x_old, C, kind=\"cubic\", axis=0)\n",
    "C_interp = f(x_new)\n",
    "C_interp.shape\n"
   ]
  },
  {
   "cell_type": "code",
   "execution_count": null,
   "metadata": {},
   "outputs": [],
   "source": [
    "plt.figure()\n",
    "plt.imshow(np.flipud(C_interp), aspect=\"auto\", extent=[time.min(), time.max(), L.min(), L2.max()], cmap='jet')\n",
    "plt.xlabel(\"time (s)\")\n",
    "plt.ylabel(\"Length (mm)\")\n",
    "plt.colorbar(label=\"Intensity (HU)\")\n",
    "plt.show()"
   ]
  },
  {
   "cell_type": "code",
   "execution_count": null,
   "metadata": {},
   "outputs": [],
   "source": [
    "fig = plt.figure(facecolor=\"black\")\n",
    "ax = fig.add_subplot(111, projection='3d', facecolor = \"black\")\n",
    "plt.set_cmap('jet_r')\n",
    "step = len(time) // 10\n",
    "time_ = np.array(time)[::step][:10]\n",
    "idx = [np.where(time == i)[0][0] for i in time_]\n",
    "for j, l in enumerate(idx):\n",
    "    arr = C_interp[:,l]\n",
    "    t_ = time_[j]*np.ones(len(arr))\n",
    "    ax.plot(t_, x_new, arr, color = cm.jet((len(idx)-j)*30))\n",
    "\n",
    "\n",
    "ax.set_xlabel(\"time (s)\")\n",
    "ax.set_ylabel(\"Length (mm)\")\n",
    "ax.tick_params(colors=\"white\")\n",
    "ax.xaxis.label.set_color(\"white\")\n",
    "ax.yaxis.label.set_color(\"white\")\n",
    "ax.zaxis.label.set_color(\"white\")"
   ]
  },
  {
   "cell_type": "code",
   "execution_count": null,
   "metadata": {},
   "outputs": [],
   "source": [
    "# Zero-adding\n",
    "\n",
    "original_array = np.array([[1, 2, 3],\n",
    "                           [4, 5, 6],\n",
    "                           [7, 8, 9]])\n",
    "\n",
    "np.pad(original_array, pad_width=((0, 0), (2, 2)))\n",
    "\n",
    "\n",
    "C_interp2 = np.pad(C_interp, pad_width=((100, 100), (0, 0)))\n",
    "x_new.shape\n",
    "\n",
    "Length = x_new.max() - x_new.min() #Length of domain\n",
    "N = x_new.shape[0] #number of points along the x\n",
    "dx = Length/(N - 1)\n",
    "x_new2 = np.array([i*dx for i in range(len(C_interp2))])\n",
    "\n",
    "C_interp2.shape"
   ]
  },
  {
   "cell_type": "code",
   "execution_count": null,
   "metadata": {},
   "outputs": [],
   "source": [
    "Length = x_new.max() - x_new.min() #Length of domain\n",
    "N = x_new.shape[0] #number of points along the x\n",
    "dx = Length/(N - 1) #spatial differences\n",
    "kappa = 2*np.pi*np.fft.fftfreq(N, dx)\n",
    "\n",
    "D = 0.4 #diffusion coefficient\n",
    "\n",
    "C0 = C_interp[:,0] #Contrast dispersion at the time of zero along the vessel\n",
    "#C0 = np.zeros_like(x_new)\n",
    "#C0[int((Length/2 - Length/10)/dx):int((Length/2 + Length/10)/dx)] = 1\n",
    "\n",
    "\n",
    "\n",
    "\n",
    "\n",
    "C0hat = np.fft.fft(C0)\n",
    "C0hat_ri = np.concatenate((C0hat.real, C0hat.imag))\n",
    "\n",
    "\n",
    "\n",
    "# Implementing the diffusion part in frequency domain\n",
    "def Diffusion(Chat_ri, t, kappa, D, v, k):\n",
    "    Chat = Chat_ri[:N] + (1j) * Chat_ri[N:]\n",
    "    d_Chat = - D * (np.power(kappa, 2)) * Chat - (1 - np.exp(-k * t)) * Chat #- 1j * v * kappa* Chat \n",
    "    d_Chat_ri = np.concatenate((d_Chat.real, d_Chat.imag)).astype('float64')\n",
    "    return d_Chat_ri\n",
    "\n",
    "Chat_ri = odeint(Diffusion, C0hat_ri, time, args=(kappa,D, 100, 0.25)) # k is for the exponential decay and was selected by trial and error.\n",
    "\n",
    "Chat = Chat_ri[:,:N] + (1j) * Chat_ri[:,N:]\n",
    "\n",
    "C_Gaussian_filter = np.zeros_like(Chat)\n",
    "for i in range(len(time)):\n",
    "    C_Gaussian_filter[i,:] = np.fft.ifft(Chat[i,:])\n",
    "\n",
    "C_Gaussian_filter = C_Gaussian_filter.real\n",
    "\n",
    "\n",
    "\n",
    "fig = plt.figure(facecolor=\"black\")\n",
    "ax = fig.add_subplot(111, projection='3d', facecolor = \"black\")\n",
    "plt.set_cmap('jet_r')\n",
    "c_plot = C_Gaussian_filter[0:-1:10,:]\n",
    "for k in range(c_plot.shape[0]):\n",
    "    ys = k*np.ones(c_plot.shape[1])\n",
    "    ax.plot(ys,x_new,c_plot[k,:], color = cm.jet(k*30))\n",
    "\n",
    "\n",
    "ax.set_xlabel(\"time (s)\")\n",
    "ax.set_ylabel(\"Length (mm)\")\n",
    "ax.tick_params(colors=\"white\")\n",
    "ax.xaxis.label.set_color(\"white\")\n",
    "ax.yaxis.label.set_color(\"white\")\n",
    "ax.zaxis.label.set_color(\"white\")\n",
    "ax.set_zbound([100, 800])\n",
    "\n",
    "\n",
    "fig = plt.figure(facecolor=\"black\")\n",
    "ax = fig.add_subplot(111, projection='3d', facecolor = \"black\")\n",
    "plt.set_cmap('jet_r')\n",
    "c_plot = C_Gaussian_filter[:,0:-1:10]\n",
    "for k in range(c_plot.shape[1]):\n",
    "    ys = x_new[k]*np.ones(c_plot.shape[0])\n",
    "    ax.plot(time,ys,c_plot[:,k], color = cm.jet(k*30))\n",
    "\n",
    "\n",
    "ax.set_xlabel(\"time (s)\")\n",
    "ax.set_ylabel(\"Length (mm)\")\n",
    "ax.tick_params(colors=\"white\")\n",
    "ax.xaxis.label.set_color(\"white\")\n",
    "ax.yaxis.label.set_color(\"white\")\n",
    "ax.zaxis.label.set_color(\"white\")\n",
    "ax.set_zbound([100, 800])\n"
   ]
  },
  {
   "cell_type": "code",
   "execution_count": null,
   "metadata": {},
   "outputs": [],
   "source": [
    "\n",
    "dt = (time.max()-time.min())/(len(time)-1)\n",
    "Velocity = []\n",
    "for t1 in range(1,len(time)):\n",
    "    C0 = C_Gaussian_filter[t1,:]\n",
    "    C1 = C_interp[t1,:]\n",
    "\n",
    "    cross_corr = np.correlate(C0 , C1 , mode='full')\n",
    "    idx = np.argmax(cross_corr)\n",
    "    lag_sample = idx - (N//2)\n",
    "    delta_x = lag_sample * dx\n",
    "    velocity = delta_x/dt\n",
    "    Velocity.append(velocity/10)\n",
    "\n",
    "plt.figure()\n",
    "plt.plot(time[1:], Velocity)\n",
    "plt.ylabel(\"Velocity (cm/s)\")\n",
    "plt.xlabel(\"time (s)\")\n",
    "\n",
    "print(Velocity[0])"
   ]
  }
 ],
 "metadata": {
  "kernelspec": {
   "display_name": "vtkfenics",
   "language": "python",
   "name": "python3"
  },
  "language_info": {
   "codemirror_mode": {
    "name": "ipython",
    "version": 3
   },
   "file_extension": ".py",
   "mimetype": "text/x-python",
   "name": "python",
   "nbconvert_exporter": "python",
   "pygments_lexer": "ipython3",
   "version": "3.11.4"
  }
 },
 "nbformat": 4,
 "nbformat_minor": 2
}
