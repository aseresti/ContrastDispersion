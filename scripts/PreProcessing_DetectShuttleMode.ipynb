{
 "cells": [
  {
   "cell_type": "markdown",
   "metadata": {},
   "source": [
    "# Detect the shuttle discontinuity\n",
    "\n",
    "To detect the inconsistency caused by the shuttle mode and clip the image and segmentation at that step.\n",
    "\n",
    "Pipeline:\n",
    "\n",
    " - take z-axis of the image and clip in half-lower and half-upper\n",
    " - would it be easy to interpolate the image instead of array extracted from segmentation? if not, what is the best pipeline for having the upper and lower parts of the vessel segmentation connected and consistant?"
   ]
  },
  {
   "cell_type": "markdown",
   "metadata": {},
   "source": [
    "## Define a clipping Plane"
   ]
  },
  {
   "cell_type": "code",
   "execution_count": 27,
   "metadata": {},
   "outputs": [],
   "source": [
    "import os\n",
    "import vtk\n",
    "import numpy as np\n",
    "from utilities import ReadVTKFile, WriteVTKFile, WriteVTUFile, ReadVTUFile\n",
    "\n",
    "\n",
    "test_image = \"/Users/ana/Documents/AnahitaSeresti/06_ContrastDispersion/1_CTPImages/VA02B/CTP/VA02B_06.vtk\""
   ]
  },
  {
   "cell_type": "code",
   "execution_count": 3,
   "metadata": {},
   "outputs": [
    {
     "data": {
      "text/plain": [
       "<vtkmodules.vtkCommonDataModel.vtkStructuredPoints(0x7fc3727f9c50) at 0x1a45a0ee0>"
      ]
     },
     "execution_count": 3,
     "metadata": {},
     "output_type": "execute_result"
    }
   ],
   "source": [
    "image = ReadVTKFile(test_image)\n",
    "image"
   ]
  },
  {
   "cell_type": "code",
   "execution_count": 4,
   "metadata": {},
   "outputs": [
    {
     "data": {
      "text/plain": [
       "(-66.8046875, 132.8046875, -257.3046875, -57.6953125, -288.5, -185.5)"
      ]
     },
     "execution_count": 4,
     "metadata": {},
     "output_type": "execute_result"
    }
   ],
   "source": [
    "image.GetBounds()"
   ]
  },
  {
   "cell_type": "code",
   "execution_count": 5,
   "metadata": {},
   "outputs": [
    {
     "data": {
      "text/plain": [
       "[33.0, -157.5, -237.0]"
      ]
     },
     "execution_count": 5,
     "metadata": {},
     "output_type": "execute_result"
    }
   ],
   "source": [
    "x_min = image.GetBounds()[0]\n",
    "x_max = image.GetBounds()[1]\n",
    "\n",
    "y_min = image.GetBounds()[2]\n",
    "y_max = image.GetBounds()[3]\n",
    "\n",
    "z_min = image.GetBounds()[4]\n",
    "z_max = image.GetBounds()[5]\n",
    "\n",
    "center_point = [\n",
    "    (x_max + x_min)/2,\n",
    "    (y_max + y_min)/2,\n",
    "    (z_max + z_min)/2\n",
    "]\n",
    "center_point"
   ]
  },
  {
   "cell_type": "code",
   "execution_count": 25,
   "metadata": {},
   "outputs": [],
   "source": [
    "Plane = vtk.vtkPlane()\n",
    "Plane.SetOrigin(center_point) # takes the centre of the image as the origin of the plane\n",
    "Plane.SetNormal([0,0,1]) # takes the z-axis as the normal of the plane since the shuttle mode is in z-axis\n",
    "\n",
    "\n",
    "def ImageClipper(image:vtk.vtkImageData, Plane:vtk.vtkPlane, InsideOut:bool=False):\n",
    "    Clipper = vtk.vtkClipVolume()\n",
    "    Clipper.AddInputData(image)\n",
    "    Clipper.SetClipFunction(Plane)\n",
    "    Clipper.SetInsideOut(InsideOut)\n",
    "    Clipper.Update()\n",
    "\n",
    "    return Clipper.GetOutput()\n",
    "\n"
   ]
  },
  {
   "cell_type": "code",
   "execution_count": 23,
   "metadata": {},
   "outputs": [],
   "source": [
    "opath = os.path.splitext(test_image)[0] + \"_upper.vtu\"\n",
    "WriteVTUFile(opath, ImageClipper(image, Plane, False))"
   ]
  },
  {
   "cell_type": "code",
   "execution_count": 24,
   "metadata": {},
   "outputs": [],
   "source": [
    "opath = os.path.splitext(test_image)[0] + \"_lower.vtu\"\n",
    "WriteVTUFile(opath, ImageClipper(image, Plane, True))"
   ]
  },
  {
   "cell_type": "markdown",
   "metadata": {},
   "source": [
    "Pipeline:\n",
    " - define a clipper to clip the CTP images to upper and lowerimages.\n",
    " - use the same plane to clip the vessel segmentation into upper and lower parts.\n",
    "\n",
    "        How to detect if a lumen only exists in either upper or lower portion??????\n",
    " - Create a dictionary of average attenuation values along the lumen."
   ]
  },
  {
   "cell_type": "code",
   "execution_count": null,
   "metadata": {},
   "outputs": [],
   "source": [
    "# to clip the lumen\n",
    "def GridClipper(grid:vtk.vtkUnstructuredGrid, Plane:vtk.vtkPlane, InsideOut:bool = False):\n",
    "    Clipper = vtk.vtkClipDataSet()\n",
    "    Clipper.AddInputData(grid)\n",
    "    Clipper.SetClipFunction(Plane)\n",
    "    Clipper.SetInsideOut(InsideOut)\n",
    "    Clipper.Update()\n",
    "\n",
    "    return (Clipper.GetOutput())"
   ]
  },
  {
   "cell_type": "code",
   "execution_count": 30,
   "metadata": {},
   "outputs": [],
   "source": [
    "lumen_path = \"/Users/ana/Documents/AnahitaSeresti/06_ContrastDispersion/3_VesselProjection/VA02B/SVG_LAD/SVG_LAD.vtu\"\n",
    "Lumen = ReadVTUFile(lumen_path)"
   ]
  },
  {
   "cell_type": "code",
   "execution_count": 31,
   "metadata": {},
   "outputs": [],
   "source": [
    "# clipping the lumen to upper and lower parts\n",
    "Lumen_upper = GridClipper(Lumen, Plane, False)\n",
    "Lumen_lower = GridClipper(Lumen, Plane, True)"
   ]
  },
  {
   "cell_type": "code",
   "execution_count": 34,
   "metadata": {},
   "outputs": [
    {
     "data": {
      "text/plain": [
       "0"
      ]
     },
     "execution_count": 34,
     "metadata": {},
     "output_type": "execute_result"
    }
   ],
   "source": [
    "Lumen_lower.GetNumberOfPoints() # use this to find if the lumen exists in both of the upper and lower portions."
   ]
  },
  {
   "cell_type": "markdown",
   "metadata": {},
   "source": [
    "todo:\n",
    "\n",
    "write a script that does the preprocessing to compensate for the shuttle mode including the following pipeline:\n",
    "\n",
    " - loop over all of the images and split them to upper and lower portions.\n",
    " - take the lumen and split it into the upper and lower segments.\n",
    " - check if the lumen exists in both of the upper and lower portions of the image.\n",
    " - project the upper image on the upper segment and vice versa.\n",
    " - extract the cross sectional average along the centreline.\n",
    " - Interpolate with a factor of 2 in time domain, and re-order the attenuation array along the vessel.\n",
    " - Create an attenuation matrix of the washout phase.\n",
    " - Interpolate the attenuation matrix in x and t domains.\n",
    " - Export the attenuation matrix as the output of the script."
   ]
  },
  {
   "cell_type": "markdown",
   "metadata": {},
   "source": [
    "still one single problem exists: how to detect the upslope, peak and washout phases on the TAC?\n",
    "Does the upper portion always lag the lower portion in imaging?"
   ]
  },
  {
   "cell_type": "code",
   "execution_count": null,
   "metadata": {},
   "outputs": [],
   "source": []
  }
 ],
 "metadata": {
  "kernelspec": {
   "display_name": "vtkfenics",
   "language": "python",
   "name": "python3"
  },
  "language_info": {
   "codemirror_mode": {
    "name": "ipython",
    "version": 3
   },
   "file_extension": ".py",
   "mimetype": "text/x-python",
   "name": "python",
   "nbconvert_exporter": "python",
   "pygments_lexer": "ipython3",
   "version": "3.11.4"
  }
 },
 "nbformat": 4,
 "nbformat_minor": 2
}
