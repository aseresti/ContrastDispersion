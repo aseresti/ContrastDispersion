{
 "cells": [
  {
   "cell_type": "markdown",
   "metadata": {},
   "source": [
    "# Detect the shuttle discontinuity\n",
    "\n",
    "To detect the inconsistency caused by the shuttle mode and clip the image and segmentation at that step.\n",
    "\n",
    "Pipeline:\n",
    "\n",
    " - take z-axis of the image and clip in half-lower and half-upper\n",
    " - would it be easy to interpolate the image instead of array extracted from segmentation? if not, what is the best pipeline for having the upper and lower parts of the vessel segmentation connected and consistant?"
   ]
  },
  {
   "cell_type": "markdown",
   "metadata": {},
   "source": [
    "## Define a clipping Plane"
   ]
  },
  {
   "cell_type": "code",
   "execution_count": 1,
   "metadata": {},
   "outputs": [],
   "source": [
    "import vtk\n",
    "import numpy as np\n",
    "from utilities import ReadVTKFile\n",
    "\n",
    "\n",
    "test_image = \"/Users/ana/Documents/AnahitaSeresti/06_ContrastDispersion/1_CTPImages/VA02B/CTP/VA02B_06.vtk\""
   ]
  }
 ],
 "metadata": {
  "kernelspec": {
   "display_name": "vtkfenics",
   "language": "python",
   "name": "python3"
  },
  "language_info": {
   "codemirror_mode": {
    "name": "ipython",
    "version": 3
   },
   "file_extension": ".py",
   "mimetype": "text/x-python",
   "name": "python",
   "nbconvert_exporter": "python",
   "pygments_lexer": "ipython3",
   "version": "3.11.4"
  }
 },
 "nbformat": 4,
 "nbformat_minor": 2
}
